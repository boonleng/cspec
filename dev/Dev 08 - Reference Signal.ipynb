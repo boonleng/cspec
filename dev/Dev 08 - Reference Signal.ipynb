{
 "cells": [
  {
   "cell_type": "markdown",
   "metadata": {},
   "source": [
    "# Dev 08 - Reference Signal"
   ]
  },
  {
   "cell_type": "code",
   "execution_count": null,
   "metadata": {},
   "outputs": [],
   "source": [
    "import struct\n",
    "\n",
    "import matplotlib.pyplot as plt\n",
    "import numpy as np\n",
    "\n",
    "# plt.style.use('./darkmode.style')\n",
    "plt.style.use('ggplot')"
   ]
  },
  {
   "cell_type": "code",
   "execution_count": null,
   "metadata": {},
   "outputs": [],
   "source": [
    "# def drv_sig(filename):\n",
    "\n",
    "filename = 'LPlsDatHNo1.txt'"
   ]
  },
  {
   "cell_type": "code",
   "execution_count": null,
   "metadata": {},
   "outputs": [],
   "source": [
    "def drv_sig(filename):\n",
    "    with open(filename, 'rb') as fid:\n",
    "        lines = fid.readlines()\n",
    "    data = []\n",
    "    for k, row in enumerate(lines):\n",
    "        if k < 5:\n",
    "            continue\n",
    "        s = row.decode().replace('[\\t\\n]', '')\n",
    "        n = [float(o) for o in s.split(',')]\n",
    "        data.append(n)\n",
    "    return np.array(data, dtype=np.single)"
   ]
  },
  {
   "cell_type": "code",
   "execution_count": null,
   "metadata": {},
   "outputs": [],
   "source": [
    "sig = drv_sig(filename)"
   ]
  },
  {
   "cell_type": "code",
   "execution_count": null,
   "metadata": {},
   "outputs": [],
   "source": [
    "sig"
   ]
  },
  {
   "cell_type": "code",
   "execution_count": null,
   "metadata": {},
   "outputs": [],
   "source": [
    "fs = 100e6\n",
    "\n",
    "plt.figure(figsize=(11, 3), dpi=144)\n",
    "plt.plot(np.arange(sig.shape[0]) / fs * 1e6, sig[:, 0], linewidth=0.5)\n",
    "plt.xlabel('Time (us)')"
   ]
  },
  {
   "cell_type": "code",
   "execution_count": null,
   "metadata": {},
   "outputs": [],
   "source": [
    "filename = 'Ref_TableH1.bin'"
   ]
  },
  {
   "cell_type": "code",
   "execution_count": null,
   "metadata": {},
   "outputs": [],
   "source": [
    "def ref_table(filename):\n",
    "    with open(filename, 'rb') as fid:\n",
    "        dat = fid.read()\n",
    "    return dat"
   ]
  },
  {
   "cell_type": "code",
   "execution_count": null,
   "metadata": {},
   "outputs": [],
   "source": [
    "rs = ref_table(filename)\n",
    "count = int(len(rs) / 4)"
   ]
  },
  {
   "cell_type": "code",
   "execution_count": null,
   "metadata": {},
   "outputs": [],
   "source": [
    "samples = struct.unpack('f' * count, rs)\n",
    "samples = np.array(samples[::2]) + 1j * np.array(samples[1::2])"
   ]
  },
  {
   "cell_type": "code",
   "execution_count": null,
   "metadata": {},
   "outputs": [],
   "source": [
    "fs = 5e6\n",
    "\n",
    "plt.figure(figsize=(11, 3), dpi=144)\n",
    "plt.plot(np.arange(len(samples)) / fs * 1e6, samples.real, linewidth=0.5)\n",
    "plt.plot(np.arange(len(samples)) / fs * 1e6, samples.imag, linewidth=0.5)\n",
    "plt.xlim((0, 40))\n",
    "plt.xlabel('Time (us)')"
   ]
  },
  {
   "cell_type": "code",
   "execution_count": null,
   "metadata": {},
   "outputs": [],
   "source": []
  }
 ],
 "metadata": {
  "kernelspec": {
   "display_name": "Python 3",
   "language": "python",
   "name": "python3"
  },
  "language_info": {
   "codemirror_mode": {
    "name": "ipython",
    "version": 3
   },
   "file_extension": ".py",
   "mimetype": "text/x-python",
   "name": "python",
   "nbconvert_exporter": "python",
   "pygments_lexer": "ipython3",
   "version": "3.8.4"
  }
 },
 "nbformat": 4,
 "nbformat_minor": 4
}
