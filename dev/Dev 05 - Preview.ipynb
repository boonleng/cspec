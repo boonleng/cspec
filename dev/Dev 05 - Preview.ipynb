{
 "cells": [
  {
   "cell_type": "markdown",
   "metadata": {},
   "source": [
    "# Dev 06 - Preview"
   ]
  },
  {
   "cell_type": "code",
   "execution_count": 2,
   "metadata": {},
   "outputs": [],
   "source": [
    "import os\n",
    "import glob\n",
    "import time\n",
    "import numpy as np\n",
    "import scipy.signal\n",
    "import matplotlib\n",
    "import matplotlib.pyplot as plt\n",
    "\n",
    "import toshi\n",
    "import cspec\n",
    "\n",
    "zmap = cspec.colormap.zmap()\n",
    "cmap = matplotlib.colors.LinearSegmentedColormap.from_list('colors', zmap[:, :3], N=len(zmap))\n",
    "\n",
    "# filesize = os.path.getsize(file)"
   ]
  },
  {
   "cell_type": "code",
   "execution_count": 3,
   "metadata": {},
   "outputs": [],
   "source": [
    "# Set #1 in an external hard drive\n",
    "# files = []\n",
    "# for day in glob.glob('/Volumes/Transcend/akita/IQ/IQdata/*'):\n",
    "#     for hour in glob.glob('{}/*'.format(day)):\n",
    "#         #print(day, hour)\n",
    "#         for file in glob.glob('{}/*.dat'.format(hour)):\n",
    "#             files.append(file)\n",
    "\n",
    "# Set #2 from an FTP upload\n",
    "files = []\n",
    "homepath = os.path.expanduser('~/Downloads/20200906fromTOSHIBA/IQdata')\n",
    "for file in glob.glob('{}/*.dat'.format(homepath)):\n",
    "    files.append(file)"
   ]
  },
  {
   "cell_type": "code",
   "execution_count": 4,
   "metadata": {},
   "outputs": [
    {
     "data": {
      "text/plain": [
       "9"
      ]
     },
     "execution_count": 4,
     "metadata": {},
     "output_type": "execute_result"
    }
   ],
   "source": [
    "len(files)"
   ]
  },
  {
   "cell_type": "code",
   "execution_count": 6,
   "metadata": {
    "scrolled": false
   },
   "outputs": [
    {
     "name": "stdout",
     "output_type": "stream",
     "text": [
      "/Users/boonleng/Downloads/20200906fromTOSHIBA/IQdata/20200814_153014.804652-33-9B.iqData.XXXX.AKITA.dat\n",
      "Data read in 2.51 s\n",
      "Noise estimate in 16-bit ADU: 1048.7291\n",
      "/Users/boonleng/Downloads/akita/20200814_153014.804652-33-9B.iqData.XXXX.AKITA.png\n",
      "/Users/boonleng/Downloads/20200906fromTOSHIBA/IQdata/20200728_040048.017743-07-9B.iqData.XXXX.AKITA.dat\n",
      "Data read in 2.26 s\n",
      "Noise estimate in 16-bit ADU: 20.3371\n",
      "/Users/boonleng/Downloads/akita/20200728_040048.017743-07-9B.iqData.XXXX.AKITA.png\n",
      "/Users/boonleng/Downloads/20200906fromTOSHIBA/IQdata/20200728_040012.511494-05-9B.iqData.XXXX.AKITA.dat\n",
      "Data read in 2.07 s\n",
      "Noise estimate in 16-bit ADU: 20.1591\n",
      "/Users/boonleng/Downloads/akita/20200728_040012.511494-05-9B.iqData.XXXX.AKITA.png\n",
      "/Users/boonleng/Downloads/20200906fromTOSHIBA/IQdata/20200809_070045.384246-D8-9B.iqData.XXXX.AKITA.dat\n",
      "Data read in 2.06 s\n",
      "Noise estimate in 16-bit ADU: 170.0139\n",
      "/Users/boonleng/Downloads/akita/20200809_070045.384246-D8-9B.iqData.XXXX.AKITA.png\n",
      "/Users/boonleng/Downloads/20200906fromTOSHIBA/IQdata/20200814_153032.382007-34-9B.iqData.XXXX.AKITA.dat\n",
      "Data read in 2.00 s\n",
      "Noise estimate in 16-bit ADU: 703.5858\n",
      "/Users/boonleng/Downloads/akita/20200814_153032.382007-34-9B.iqData.XXXX.AKITA.png\n",
      "/Users/boonleng/Downloads/20200906fromTOSHIBA/IQdata/20200728_040030.337918-06-9B.iqData.XXXX.AKITA.dat\n",
      "Data read in 1.91 s\n",
      "Noise estimate in 16-bit ADU: 21.0043\n",
      "/Users/boonleng/Downloads/akita/20200728_040030.337918-06-9B.iqData.XXXX.AKITA.png\n",
      "/Users/boonleng/Downloads/20200906fromTOSHIBA/IQdata/20200809_070027.507149-D7-9B.iqData.XXXX.AKITA.dat\n",
      "Data read in 1.96 s\n",
      "Noise estimate in 16-bit ADU: 181.6029\n",
      "/Users/boonleng/Downloads/akita/20200809_070027.507149-D7-9B.iqData.XXXX.AKITA.png\n",
      "/Users/boonleng/Downloads/20200906fromTOSHIBA/IQdata/20200814_153049.959797-35-9B.iqData.XXXX.AKITA.dat\n",
      "Data read in 1.94 s\n",
      "Noise estimate in 16-bit ADU: 552.3618\n",
      "/Users/boonleng/Downloads/akita/20200814_153049.959797-35-9B.iqData.XXXX.AKITA.png\n",
      "/Users/boonleng/Downloads/20200906fromTOSHIBA/IQdata/20200809_070009.929221-D6-9B.iqData.XXXX.AKITA.dat\n",
      "Data read in 1.93 s\n",
      "Noise estimate in 16-bit ADU: 177.4098\n",
      "/Users/boonleng/Downloads/akita/20200809_070009.929221-D6-9B.iqData.XXXX.AKITA.png\n"
     ]
    }
   ],
   "source": [
    "for k in range(0, len(files)):\n",
    "    file = files[k]\n",
    "    print(file)\n",
    "    \n",
    "    s = time.time()\n",
    "    ray_pulses, cpi_headers = toshi.read(file)\n",
    "    e = time.time()\n",
    "    print('Data read in {:.2f} s'.format(e - s))\n",
    "\n",
    "    # Go through the pulses for azimuth\n",
    "    a = np.zeros(len(ray_pulses), dtype=np.single)\n",
    "    for k, pulses in enumerate(ray_pulses):\n",
    "        a[k] = pulses[0].azimuth\n",
    "\n",
    "    # Choose ray 2 to whatever that completes the 360-deg coverage\n",
    "    n = np.argmin(np.abs(a[3:] - a[2])) + 1\n",
    "    a = a[2:n+2]\n",
    "\n",
    "    # Subsetting\n",
    "    ray_pulses = ray_pulses[2:n+2]\n",
    "    cpi_headers = cpi_headers[2:n+2]\n",
    "    \n",
    "    # Dimensions\n",
    "    naz = len(ray_pulses)\n",
    "    ngate_long = ray_pulses[0][0].ngate_long_hi\n",
    "    ngate_short = ray_pulses[0][0].ngate_short_hi\n",
    "    ngate = ngate_long + ngate_short\n",
    "\n",
    "    # Elevation assumed to be flat from the very first pulse\n",
    "    scan_el = ray_pulses[0][0].elevation\n",
    "    scan_time = time.strptime(os.path.basename(file)[:15], '%Y%m%d_%H%M%S')\n",
    "\n",
    "    # Sampling code from the CPI header\n",
    "    fs = 1.0e6 * (1 << cpi_headers[0].fs_code)\n",
    "    dr = 3.0e8 / fs / 2\n",
    "    r = 1.0e-3 * np.arange(0, ngate, dtype=np.single) * dr\n",
    "\n",
    "    # Noise estimate, try azimuth 0, around 20-25 km\n",
    "    ia = np.argmin(np.abs(a[3:] - 0.0)) + 1\n",
    "    ir, er = np.argmin(np.abs(r - 20.0)), np.argmin(np.abs(r - 25.0))\n",
    "    samples = np.zeros((len(ray_pulses[ia]), er-ir), dtype=np.csingle)\n",
    "\n",
    "    # Gather the samples. Ignore phase code since we are only interested in amplitude\n",
    "    for k, pulse in enumerate(ray_pulses[ia]):\n",
    "        samples[k, :] = pulse.h_long_hi[ir:er]\n",
    "    noise = np.mean(np.abs(samples)) ** 2\n",
    "    print('Noise estimate in 16-bit ADU: {:.4f}'.format(noise))\n",
    "    \n",
    "    s = np.zeros((naz, ngate), dtype=np.single)\n",
    "\n",
    "    # Go through the pulses\n",
    "    a = np.zeros(len(ray_pulses), dtype=np.single)\n",
    "    for k, (pulses, cpi_header) in enumerate(zip(ray_pulses, cpi_headers)):\n",
    "        p = np.zeros((len(pulses), ngate), dtype=np.csingle)\n",
    "        a[k] = pulses[0].azimuth\n",
    "        for j, pulse in enumerate(pulses):\n",
    "            p[j, ngate_short:] = pulse.h_long_hi * np.exp(-1j * pulse.phase_h_long)\n",
    "            p[j, :ngate_short] = pulse.h_short_hi * np.exp(-1j * pulse.phase_h_short)\n",
    "        s[k, :] = np.mean(np.abs(p) ** 2, axis=0)\n",
    "\n",
    "    # Signal\n",
    "    s -= noise\n",
    "    s[s <= 0] = 1.0e-6                                    # Avoid log(0)\n",
    "    snr = 10 * np.log10(s / noise)                        # Signal-to-noise ratio\n",
    "    z = 10 * np.log10(s * (r + 0.5e-3 * dr) ** 2) - 40    # Estimated ZCal = -40 \n",
    "    z[:, :ngate_short] += 30                              # 30-dB on the short waveform, perhaps?\n",
    "\n",
    "    # Thresholding\n",
    "    m = snr < 0\n",
    "    z[m] = np.nan\n",
    "    \n",
    "    # Coordinate\n",
    "    ce = np.cos(np.deg2rad(scan_el))\n",
    "    rr, aa = np.meshgrid(r, np.deg2rad(a))\n",
    "    xx = rr * ce * np.sin(aa)\n",
    "    yy = rr * ce * np.cos(aa)\n",
    "\n",
    "    # Plot\n",
    "    plt.figure(figsize=(5.2, 4), dpi=200)\n",
    "    plt.pcolormesh(xx[:, :500], yy[:, :500], z[:, :500], cmap=cmap)\n",
    "    # plt.plot(x_turb, y_turb, 'xk')\n",
    "    plt.clim((-32, 96))\n",
    "    # plt.xlim((-13, 5))\n",
    "    # plt.ylim((3, 18))\n",
    "    # plt.xlim((-25, 10))\n",
    "    # plt.ylim((0, 35))\n",
    "\n",
    "    plt.xlim((-20, 20))\n",
    "    plt.ylim((-20, 20))\n",
    "\n",
    "    plt.colorbar()\n",
    "    plt.grid(linewidth=0.25)\n",
    "    plt.title(os.path.basename(file), fontsize=8)\n",
    "    im = os.path.expanduser('~/Downloads/akita/{}.png'.format(os.path.basename(file)[:-4]))\n",
    "    print(im) \n",
    "    plt.savefig(im)\n",
    "    plt.close()"
   ]
  },
  {
   "cell_type": "markdown",
   "metadata": {
    "collapsed": true
   },
   "source": [
    "Images to Movie\n",
    "===\n",
    "\n",
    "If you have ffmpeg installed, you can generate a movie from the PNG images:\n",
    "\n",
    "```shell\n",
    "ffmpeg -y -framerate 12 -f image2 -pattern_type glob -i 'akita/*.png' -vcodec libx264 -preset slow -crf 22 -b:v 12M -tune animation -pix_fmt yuv420p akita-02.mp4\n",
    "```"
   ]
  },
  {
   "cell_type": "code",
   "execution_count": null,
   "metadata": {},
   "outputs": [],
   "source": []
  }
 ],
 "metadata": {
  "kernelspec": {
   "display_name": "Python 3",
   "language": "python",
   "name": "python3"
  },
  "language_info": {
   "codemirror_mode": {
    "name": "ipython",
    "version": 3
   },
   "file_extension": ".py",
   "mimetype": "text/x-python",
   "name": "python",
   "nbconvert_exporter": "python",
   "pygments_lexer": "ipython3",
   "version": "3.7.7"
  }
 },
 "nbformat": 4,
 "nbformat_minor": 4
}
