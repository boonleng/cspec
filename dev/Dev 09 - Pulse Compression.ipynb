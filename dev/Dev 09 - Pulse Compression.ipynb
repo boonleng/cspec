{
 "cells": [
  {
   "cell_type": "markdown",
   "metadata": {},
   "source": [
    "# Dev 09 - Pulse Compression"
   ]
  },
  {
   "cell_type": "code",
   "execution_count": null,
   "metadata": {},
   "outputs": [],
   "source": [
    "import os\n",
    "import time\n",
    "import numpy as np\n",
    "import scipy as sp\n",
    "import scipy.signal\n",
    "import matplotlib\n",
    "import matplotlib.pyplot as plt\n",
    "\n",
    "plt.style.use('ggplot')\n",
    "\n",
    "import cspec\n",
    "import toshi\n",
    "\n",
    "zmap = matplotlib.colors.LinearSegmentedColormap.from_list('colors', cspec.colormap.zmap()[:, :3])\n",
    "vmap = matplotlib.colors.LinearSegmentedColormap.from_list('colors', cspec.colormap.vmap()[:, :3])"
   ]
  },
  {
   "cell_type": "code",
   "execution_count": null,
   "metadata": {},
   "outputs": [],
   "source": [
    "waveform = toshi.tx_waveform()\n",
    "wtc_loc = toshi.wtc_loc_from_csv()\n",
    "\n",
    "turbines = np.array([[pt[2], pt[1]] for pt in wtc_loc], dtype=np.single)"
   ]
  },
  {
   "cell_type": "code",
   "execution_count": null,
   "metadata": {},
   "outputs": [],
   "source": [
    "fs = 2e6\n",
    "t = np.arange(len(waveform)) / fs * 1e6\n",
    "\n",
    "plt.figure(figsize=(9, 2.5), dpi=144)\n",
    "plt.plot(t, waveform.real, linewidth=0.75)\n",
    "plt.plot(t, waveform.imag, linewidth=0.75)\n",
    "plt.xlim((0, 40))\n",
    "plt.xlabel('Time (us)')"
   ]
  },
  {
   "cell_type": "code",
   "execution_count": null,
   "metadata": {},
   "outputs": [],
   "source": [
    "pc_nfft = 1024\n",
    "wf = sp.fft.fft(waveform / np.sqrt(np.sum(np.abs(waveform) ** 2)), n=pc_nfft)"
   ]
  },
  {
   "cell_type": "code",
   "execution_count": null,
   "metadata": {},
   "outputs": [],
   "source": [
    "# file = os.path.expanduser('~/Downloads/20200614_150015.256007-87-02.iqData.XXXX.AKITA.dat')\n",
    "# file = os.path.expanduser('~/Downloads/20200615_010423.194421-8C-02.iqData.XXXX.AKITA.dat')\n",
    "# file = os.path.expanduser('~/Downloads/toshiba/AKITA_IQ_TO_OU/IQdata/2021.01.28/12/20210128_124100.876775-CD-68.iqData.XXXX.AKITA.dat')\n",
    "file = os.path.expanduser('~/Downloads/toshiba/AKITA_IQ_TO_OU/IQdata/2021.01.28/12/20210128_124008.095007-CA-68.iqData.XXXX.AKITA.dat')\n",
    "\n",
    "filesize = os.path.getsize(file)\n",
    "print('{} - {:,.0f} B'.format(file, filesize))"
   ]
  },
  {
   "cell_type": "code",
   "execution_count": null,
   "metadata": {},
   "outputs": [],
   "source": [
    "s = time.time()\n",
    "all_ray_pulses, all_cpi_headers = toshi.read(file)\n",
    "e = time.time()\n",
    "print('Data read in {:.2f} s'.format(e - s))"
   ]
  },
  {
   "cell_type": "code",
   "execution_count": null,
   "metadata": {},
   "outputs": [],
   "source": [
    "# Go through the pulses for azimuth\n",
    "az = np.zeros(len(all_ray_pulses), dtype=np.single)\n",
    "for k, pulses in enumerate(all_ray_pulses):\n",
    "    az[k] = pulses[0].azimuth\n",
    "    \n",
    "# Choose ray 2 to whatever that completes the 360-deg coverage\n",
    "n = np.argmin(np.abs(az[3:] - az[2])) + 1\n",
    "az = az[2:n+2]\n",
    "ray_pulses = all_ray_pulses[2:n+2]\n",
    "cpi_headers = all_cpi_headers[2:n+2]\n",
    "\n",
    "# Dimensions\n",
    "naz = len(ray_pulses)\n",
    "ngate_long = ray_pulses[0][0].cpi_header.num_range_long_hi\n",
    "ngate_short_hi = ray_pulses[0][0].cpi_header.num_range_short_hi\n",
    "ngate_short_lo = ray_pulses[0][0].cpi_header.num_range_short_lo\n",
    "ngate = ngate_long + ngate_short_hi + ngate_short_lo\n",
    "\n",
    "# Elevation assumed to be flat from the very first pulse\n",
    "scan_el = ray_pulses[0][0].elevation\n",
    "scan_time = time.strptime(os.path.basename(file)[:15], '%Y%m%d_%H%M%S')\n",
    "\n",
    "# Sampling code from the CPI header\n",
    "fs = 1.0e6 * (1 << cpi_headers[0].fs_code)\n",
    "dr = 3.0e8 / fs / 2\n",
    "r = 1.0e-3 * np.arange(0, ngate, dtype=np.single) * dr + 0.5 * dr\n",
    "\n",
    "print('fs = {:,.0f} Hz    n = {} -> 2 ... {} ({})'.format(fs, n, n+2, naz))"
   ]
  },
  {
   "cell_type": "code",
   "execution_count": null,
   "metadata": {},
   "outputs": [],
   "source": [
    "# Noise estimate, try azimuth 0, around 20-25 km\n",
    "# ia = np.argmin(np.abs(a[3:] - 0.0)) + 1\n",
    "# ir, er = np.argmin(np.abs(r - 20.0)), np.argmin(np.abs(r - 25.0))\n",
    "# samples = np.zeros((len(ray_pulses[ia]), er-ir), dtype=np.csingle)\n",
    "\n",
    "# Gather the samples. Ignore phase code since we are only interested in amplitude\n",
    "# for k, pulse in enumerate(ray_pulses[ia]):\n",
    "#     samples[k, :] = pulse.h_long_hi[ir:er]\n",
    "# noise = np.mean(np.abs(samples)) ** 2\n",
    "\n",
    "# Hard code noise estimate to be about 24 (eye ball)\n",
    "noise = 24\n",
    "print('Using noise estimate in 16-bit ADU: {:.4f}'.format(noise))"
   ]
  },
  {
   "cell_type": "code",
   "execution_count": null,
   "metadata": {},
   "outputs": [],
   "source": [
    "s = np.zeros((naz, ngate), dtype=np.single)\n",
    "v = np.zeros((naz, ngate), dtype=np.single)\n",
    "\n",
    "nfft = 256\n",
    "use_window = True\n",
    "use_pulse_pair = False\n",
    "\n",
    "# Go through the pulses\n",
    "a = np.zeros(len(ray_pulses), dtype=np.single)\n",
    "for k, (pulses, cpi_header) in enumerate(zip(ray_pulses, cpi_headers)):\n",
    "    a[k] = pulses[0].azimuth\n",
    "    npulse = len(pulses)\n",
    "\n",
    "    # Decode the long pulse, then compress using wf\n",
    "    p = np.zeros((npulse, ngate_long), dtype=np.csingle)\n",
    "    for j, pulse in enumerate(pulses):\n",
    "        p[j, :] = pulse.h_long_hi * np.exp(-1j * pulse.phase_h_long)\n",
    "    pf = sp.fft.fft(p, n=pc_nfft, axis=1)\n",
    "    pc = sp.fft.ifft(pf * wf, n=pc_nfft, axis=1)\n",
    "\n",
    "    # Gather the short pulses and the compressed long pulses\n",
    "    p = np.zeros((npulse, ngate), dtype=np.csingle)\n",
    "    for j, pulse in enumerate(pulses):\n",
    "        c = np.exp(-1j * pulse.phase_h_short)                              # Phase code\n",
    "        p[j, :ngate_long] = pc[j, :ngate_long]                             # Long only\n",
    "        p[j, :ngate_short_hi] = pulse.h_short_hi * c                       # Short hi\n",
    "        p[j, :ngate_short_lo] = pulse.h_short_lo * c                       # Short lo        \n",
    "    p = p - np.mean(p, axis=0)                                             # Remove DC if desired\n",
    "\n",
    "    if use_window:\n",
    "        w = scipy.signal.get_window('blackmanharris', len(p))\n",
    "    else:\n",
    "        w = np.ones((p.shape[0],))\n",
    "    w /= np.sqrt(np.sum(w ** 2)) / np.sqrt(p.shape[0])                     # Normalize to non-windowed gain\n",
    "    ww = np.repeat(np.expand_dims(w, axis=1), ngate, axis=1)               # Make same shape\n",
    "    p *= ww                                                                # Windowing\n",
    "\n",
    "    if use_pulse_pair:\n",
    "        pp = p[1:, :] * np.conj(p[:-1, :])                                 # x(n) * x'(n-1)\n",
    "        s[k, :] = np.mean(np.abs(p) ** 2, axis=0)                          # s(n) = E[x(n) * x'(n)]\n",
    "        v[k, :] = np.angle(np.sum(pp, axis=0))                             # r(1) = E[x(n) * x'(n-1)]\n",
    "    else:\n",
    "        spec = np.fft.fft(p, nfft, axis=0)                                 # FFT\n",
    "        s[k, :] = np.mean(np.abs(spec) ** 2, axis=0) / p.shape[0]          # Periodogram\n",
    "        v[k, :] = np.angle(np.fft.ifft(spec * np.conj(spec), axis=0)[1])   # IFT -> ACF[1]\n",
    "\n",
    "# Signal\n",
    "s -= noise\n",
    "s[s <= 0] = 1.0e-6                                    # Avoid log(0)\n",
    "snr = 10 * np.log10(s / noise)                        # Signal-to-noise ratio in dB\n",
    "z = 10 * np.log10(s * (r + 0.5e-3 * dr) ** 2) - 40    # Estimated ZCal = -40 \n",
    "z[:, :ngate_short_hi] += 16                           # ~18-dB on the short waveform, perhaps?\n",
    "\n",
    "# Thresholding at SNR = 0 dB\n",
    "m = snr < -3\n",
    "z[m] = np.nan\n",
    "v[m] = np.nan"
   ]
  },
  {
   "cell_type": "code",
   "execution_count": null,
   "metadata": {},
   "outputs": [],
   "source": [
    "dr"
   ]
  },
  {
   "cell_type": "code",
   "execution_count": null,
   "metadata": {},
   "outputs": [],
   "source": [
    "# Edge of range cells\n",
    "wid_a = np.mean(sorted(np.diff(az))[int(0.3 * len(az)):int(0.6 * len(az))])\n",
    "end_a = az[-1] + wid_a\n",
    "if end_a >= 360.0:\n",
    "    end_a -= 360.0\n",
    "ae = np.append(az, end_a)\n",
    "re = 1.0e-3 * np.arange(0, ngate + 1, dtype=np.single) * dr"
   ]
  },
  {
   "cell_type": "code",
   "execution_count": null,
   "metadata": {},
   "outputs": [],
   "source": [
    "np.outer(np.arange(1, 10), np.sin(ring_a)).shape"
   ]
  },
  {
   "cell_type": "code",
   "execution_count": null,
   "metadata": {},
   "outputs": [],
   "source": [
    "ring_x.shape"
   ]
  },
  {
   "cell_type": "code",
   "execution_count": null,
   "metadata": {
    "scrolled": false
   },
   "outputs": [],
   "source": [
    "# Radar cell locations\n",
    "ce = np.cos(np.deg2rad(scan_el))\n",
    "rr, aa = np.meshgrid(re, np.deg2rad(ae))\n",
    "xx = rr * ce * np.sin(aa)\n",
    "yy = rr * ce * np.cos(aa)\n",
    "\n",
    "# ring_r = 7.0\n",
    "# ring_a = np.arange(0, 360, 2) / 180 * np.pi\n",
    "# ring_x = ring_r * np.sin(ring_a)\n",
    "# ring_y = ring_r * np.cos(ring_a)\n",
    "ring_r = np.arange(1, 11)\n",
    "ring_a = np.arange(0, 361, 2) / 180 * np.pi\n",
    "ring_x = np.outer(np.sin(ring_a), ring_r)\n",
    "ring_y = np.outer(np.cos(ring_a), ring_r)\n",
    "\n",
    "# Turbine locations\n",
    "a_turb = turbines[:, 0] / 180.0 * np.pi\n",
    "r_turb = turbines[:, 1]\n",
    "x_turb = r_turb * np.sin(a_turb)\n",
    "y_turb = r_turb * np.cos(a_turb)\n",
    "\n",
    "# Various domain to choose from\n",
    "# xlim, ylim = (-3, 2), (2, 6.5)\n",
    "# xlim, ylim = (-7, 6.5), (-6, 7)\n",
    "# xlim, ylim = (-13, 5), (3, 18)\n",
    "# xlim, ylim = (-25, 10), (0, 35)\n",
    "# xlim, ylim = (-20, 20), (-20, 20)\n",
    "xlim, ylim = (-8.4, 8.4), (-8.4, 8.4)\n",
    "\n",
    "# Reflectivity plot\n",
    "plt.figure(figsize=(5, 4), dpi=216)\n",
    "plt.pcolormesh(xx[:, :501], yy[:, :501], z[:, :500], cmap=zmap)\n",
    "# plt.plot(x_turb, y_turb, 'xk', markersize=4, linewidth=0.33)\n",
    "plt.plot(ring_x, ring_y, 'k:', linewidth=0.5)\n",
    "for i in range(ring_x.shape[1]):\n",
    "    plt.text(ring_x[67, i], ring_y[67, i], '{} km'.format(i+1), fontsize=6, ha='center', va='center', rotation=45)\n",
    "# plt.plot(ring_x[-1, :], ring_y[-1, :], 'k:')\n",
    "plt.clim((-32, 96))\n",
    "plt.xlim(xlim)\n",
    "plt.ylim(ylim)\n",
    "plt.colorbar()\n",
    "plt.grid(linewidth=0.25)\n",
    "plt.title(os.path.basename(file), fontsize=8)\n",
    "\n",
    "# Velocity plot\n",
    "plt.figure(figsize=(5, 4), dpi=216)\n",
    "plt.pcolormesh(xx[::2, :501], yy[::2, :501], v[::2, :500], cmap=vmap)\n",
    "# plt.plot(x_turb, y_turb, 'xk', markersize=4, linewidth=0.33)\n",
    "plt.clim((-5, 5))\n",
    "plt.xlim(xlim)\n",
    "plt.ylim(ylim)\n",
    "plt.colorbar()\n",
    "plt.grid(linewidth=0.25)\n",
    "plt.title(os.path.basename(file), fontsize=8)\n",
    "\n",
    "plt.show()"
   ]
  },
  {
   "cell_type": "code",
   "execution_count": null,
   "metadata": {},
   "outputs": [],
   "source": [
    "ray_pulses[0][0].cpi_header.align_num_range_long_hi, ray_pulses[0][0].cpi_header.align_num_range_long_lo, ray_pulses[0][0].cpi_header.align_num_range_short_hi, ray_pulses[0][0].cpi_header.align_num_range_short_lo"
   ]
  },
  {
   "cell_type": "code",
   "execution_count": null,
   "metadata": {},
   "outputs": [],
   "source": [
    "ray_pulses[0][0].cpi_header.num_range_long_hi, ray_pulses[0][0].cpi_header.num_range_long_lo, ray_pulses[0][0].cpi_header.num_range_short_hi, ray_pulses[0][0].cpi_header.num_range_short_lo"
   ]
  },
  {
   "cell_type": "code",
   "execution_count": null,
   "metadata": {},
   "outputs": [],
   "source": [
    "# ray_pulses[0][0].cpi_header.num_range_long_hi, ray_pulses[0][0].cpi_header.num_range_long_lo, ray_pulses[0][0].cpi_header.num_range_short_hi, ray_pulses[0][0].cpi_header.num_range_short_lo"
   ]
  }
 ],
 "metadata": {
  "kernelspec": {
   "display_name": "Python 3",
   "language": "python",
   "name": "python3"
  },
  "language_info": {
   "codemirror_mode": {
    "name": "ipython",
    "version": 3
   },
   "file_extension": ".py",
   "mimetype": "text/x-python",
   "name": "python",
   "nbconvert_exporter": "python",
   "pygments_lexer": "ipython3",
   "version": "3.8.4"
  }
 },
 "nbformat": 4,
 "nbformat_minor": 4
}
