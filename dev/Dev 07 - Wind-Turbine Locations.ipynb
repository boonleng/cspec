{
 "cells": [
  {
   "cell_type": "markdown",
   "metadata": {},
   "source": [
    "# Dev 07 - Wind-Turbine Location"
   ]
  },
  {
   "cell_type": "code",
   "execution_count": 7,
   "metadata": {},
   "outputs": [],
   "source": [
    "import csv\n",
    "import numpy as np"
   ]
  },
  {
   "cell_type": "code",
   "execution_count": 14,
   "metadata": {},
   "outputs": [],
   "source": [
    "def wtloc_from_csv(filename):\n",
    "    data = []\n",
    "    with open(filename) as file:\n",
    "        reader = csv.reader(file, delimiter=',')\n",
    "        for k, row in enumerate(reader):\n",
    "            data.append(row)\n",
    "    return np.array(data, dtype=np.single)"
   ]
  },
  {
   "cell_type": "code",
   "execution_count": 15,
   "metadata": {},
   "outputs": [],
   "source": [
    "loc = wtloc_from_csv('wtloc.csv')"
   ]
  },
  {
   "cell_type": "code",
   "execution_count": 16,
   "metadata": {},
   "outputs": [
    {
     "data": {
      "text/plain": [
       "array([[  1.   ,   5.333, 354.32 ],\n",
       "       [  2.   ,   5.307, 351.26 ],\n",
       "       [  3.   ,   5.606, 350.12 ],\n",
       "       [  4.   ,   5.874, 350.89 ],\n",
       "       [  5.   ,   6.108, 350.06 ],\n",
       "       [  6.   ,   6.749, 348.95 ],\n",
       "       [  7.   ,   6.976, 348.99 ],\n",
       "       [  8.   ,  11.799, 342.54 ],\n",
       "       [  9.   ,  12.073, 342.17 ],\n",
       "       [ 10.   ,  12.347, 341.9  ],\n",
       "       [ 11.   ,  12.609, 341.43 ],\n",
       "       [ 12.   ,  12.895, 340.91 ],\n",
       "       [ 13.   ,  13.16 , 340.53 ],\n",
       "       [ 14.   ,  13.421, 340.01 ],\n",
       "       [ 15.   ,  13.722, 339.6  ],\n",
       "       [ 16.   ,  13.992, 339.25 ],\n",
       "       [ 17.   ,  14.265, 338.81 ],\n",
       "       [ 18.   ,  14.528, 338.45 ],\n",
       "       [ 19.   ,  14.794, 338.06 ],\n",
       "       [ 20.   ,  15.057, 337.67 ],\n",
       "       [ 21.   ,  15.316, 337.29 ],\n",
       "       [ 22.   ,  15.573, 336.92 ],\n",
       "       [ 23.   ,  15.846, 336.64 ],\n",
       "       [ 24.   ,  16.136, 336.64 ],\n",
       "       [ 25.   ,   5.531, 170.6  ],\n",
       "       [ 26.   ,   5.17 , 170.44 ],\n",
       "       [ 27.   ,   5.591, 167.29 ]], dtype=float32)"
      ]
     },
     "execution_count": 16,
     "metadata": {},
     "output_type": "execute_result"
    }
   ],
   "source": [
    "loc"
   ]
  },
  {
   "cell_type": "code",
   "execution_count": null,
   "metadata": {},
   "outputs": [],
   "source": []
  }
 ],
 "metadata": {
  "kernelspec": {
   "display_name": "Python 3",
   "language": "python",
   "name": "python3"
  },
  "language_info": {
   "codemirror_mode": {
    "name": "ipython",
    "version": 3
   },
   "file_extension": ".py",
   "mimetype": "text/x-python",
   "name": "python",
   "nbconvert_exporter": "python",
   "pygments_lexer": "ipython3",
   "version": "3.8.4"
  }
 },
 "nbformat": 4,
 "nbformat_minor": 4
}
