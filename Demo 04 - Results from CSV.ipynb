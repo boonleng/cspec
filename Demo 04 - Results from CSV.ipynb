{
 "cells": [
  {
   "cell_type": "markdown",
   "metadata": {},
   "source": [
    "# Demo 04 - Results from CSV"
   ]
  },
  {
   "cell_type": "code",
   "execution_count": null,
   "metadata": {},
   "outputs": [],
   "source": [
    "import numpy as np\n",
    "import matplotlib.pyplot as plt\n",
    "\n",
    "plt.style.use('./lightmode.style')"
   ]
  },
  {
   "cell_type": "code",
   "execution_count": null,
   "metadata": {},
   "outputs": [],
   "source": [
    "npzfile = np.load('deltas.npz')\n",
    "deltas = npzfile['arr_0']"
   ]
  },
  {
   "cell_type": "code",
   "execution_count": null,
   "metadata": {},
   "outputs": [],
   "source": [
    "with open('results.csv', 'r') as fid:\n",
    "    text = fid.read()\n",
    "\n",
    "results = []\n",
    "for line in text.split('\\n')[1:]:\n",
    "    elem = line.split(', ')\n",
    "    if len(elem) == 4:\n",
    "        row = (elem[0], int(elem[1]), float(elem[2]), float(elem[3]))\n",
    "        print(row)\n",
    "        results.append(row)"
   ]
  },
  {
   "cell_type": "code",
   "execution_count": null,
   "metadata": {},
   "outputs": [],
   "source": [
    "files = [x[0] for x in results]\n",
    "p = [x[2] for x in results]"
   ]
  },
  {
   "cell_type": "code",
   "execution_count": null,
   "metadata": {},
   "outputs": [],
   "source": [
    "np.mean(p)"
   ]
  },
  {
   "cell_type": "code",
   "execution_count": null,
   "metadata": {},
   "outputs": [],
   "source": [
    "mean_delta = np.mean(deltas)\n",
    "\n",
    "fig = plt.figure()\n",
    "n, _, patches = plt.hist(deltas, bins=np.arange(-95, -5, 1), alpha=0.6)\n",
    "for p in patches:\n",
    "    p.set_facecolor('grey')\n",
    "    p.set_edgecolor('white')\n",
    "plt.plot(np.outer([1, 1], mean_delta), [0, 2800], '--')\n",
    "plt.text(mean_delta - 2, 1000, 'Avg = {:.2f} dB'.format(mean_delta), ha='center', va='baseline', rotation=90)\n",
    "plt.xlabel('Reflectivity Values (dBZ)')\n",
    "plt.ylabel('Count')\n",
    "plt.title('Distribution of Suppresion Values')\n",
    "\n",
    "o = deltas > -50\n",
    "mean_delta = np.mean(deltas[o])\n",
    "\n",
    "fig = plt.figure()\n",
    "n, _, patches = plt.hist(deltas[o], bins=np.arange(-40, -5, 1), alpha=0.6)\n",
    "for p in patches:\n",
    "    p.set_facecolor('grey')\n",
    "    p.set_edgecolor('white')\n",
    "plt.plot(np.outer([1, 1], mean_delta), [0, 2800], '--')\n",
    "plt.text(mean_delta - 1, 1000, 'Avg = {:.2f} dB'.format(mean_delta), ha='center', va='baseline', rotation=90)\n",
    "plt.xlabel('Reflectivity Values (dBZ)')\n",
    "plt.ylabel('Count')\n",
    "plt.title('Distribution of Suppresion Values')"
   ]
  },
  {
   "cell_type": "code",
   "execution_count": null,
   "metadata": {},
   "outputs": [],
   "source": []
  }
 ],
 "metadata": {
  "kernelspec": {
   "display_name": "Python 3",
   "language": "python",
   "name": "python3"
  },
  "language_info": {
   "codemirror_mode": {
    "name": "ipython",
    "version": 3
   },
   "file_extension": ".py",
   "mimetype": "text/x-python",
   "name": "python",
   "nbconvert_exporter": "python",
   "pygments_lexer": "ipython3",
   "version": "3.8.4"
  }
 },
 "nbformat": 4,
 "nbformat_minor": 4
}
