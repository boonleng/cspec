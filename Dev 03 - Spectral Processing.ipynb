{
 "cells": [
  {
   "cell_type": "markdown",
   "metadata": {},
   "source": [
    "# Dev 03 - Geographic and Cartesian Coordinates"
   ]
  },
  {
   "cell_type": "code",
   "execution_count": 6,
   "metadata": {},
   "outputs": [],
   "source": [
    "import os\n",
    "import time\n",
    "import numpy as np\n",
    "import matplotlib.pyplot as plt\n",
    "\n",
    "plt.style.use('./darkmode.style')"
   ]
  },
  {
   "cell_type": "code",
   "execution_count": 2,
   "metadata": {},
   "outputs": [],
   "source": [
    "# Radar coordinate\n",
    "# Approximate location from Google Maps: 39.7294019,140.0440751\n",
    "olat, olon = 39.7294019, 140.0440751"
   ]
  },
  {
   "cell_type": "code",
   "execution_count": 7,
   "metadata": {},
   "outputs": [],
   "source": [
    "def geo2cart(lat, lon, olat, olon):\n",
    "    # Convention:\n",
    "    # Longitude = lam = angle from the x-axis\n",
    "    # Latitude = phi = angle from the xy-plane\n",
    "    e = 6371e3\n",
    "    lam = np.deg2rad(lon)\n",
    "    phi = np.deg2rad(lat)\n",
    "    p = np.array([\n",
    "        np.cos(phi) * np.cos(lam),\n",
    "        np.cos(phi) * np.sin(lam),\n",
    "        np.sin(phi)\n",
    "    ])\n",
    "    # Step 1 - rotate the earth about the z-axis by -(90 + lon)\n",
    "    az = np.deg2rad(-(90 + olon))\n",
    "    rz = np.array([[np.cos(az), -np.sin(az), 0], [np.sin(az), np.cos(az), 0], [0, 0, 1]])\n",
    "    # Step 2 - rotate the earth about the x-axis by -(90 - lat)\n",
    "    ax = np.deg2rad(-(90 - olat))\n",
    "    rx = np.array([[1, 0, 0], [0, np.cos(ax), -np.sin(ax)], [0, np.sin(ax), np.cos(ax)]])\n",
    "    # Matrix multiplication form\n",
    "    q = e * np.matmul(rx, np.matmul(rz, p))\n",
    "    return q[0], q[1], q[2] - e"
   ]
  },
  {
   "cell_type": "code",
   "execution_count": 13,
   "metadata": {},
   "outputs": [
    {
     "name": "stdout",
     "output_type": "stream",
     "text": [
      "x = 0.0000   y = 2223.8985   z = -0.3881\n"
     ]
    }
   ],
   "source": [
    "lat, lon = olat + 0.01, olon\n",
    "\n",
    "x, y, z = geo2cart(lat + 0.01, lon, olat=olat, olon=olon)\n",
    "\n",
    "print('x = {:.4f}   y = {:.4f}   z = {:.4f}'.format(x, y, z))"
   ]
  },
  {
   "cell_type": "code",
   "execution_count": 14,
   "metadata": {},
   "outputs": [],
   "source": [
    "def cart2geo(x, y, z, olat, olon):\n",
    "    e = 6371e3\n",
    "    # Step 1 - rotate the earth about the x-axis by (90 - lat)\n",
    "    ax = np.deg2rad(90 - olat)\n",
    "    rx = np.array([[1, 0, 0], [0, np.cos(ax), -np.sin(ax)], [0, np.sin(ax), np.cos(ax)]])\n",
    "    # Step 2 - rotate the earth about the z-axis by (90 + lon)\n",
    "    az = np.deg2rad(90 + olon)\n",
    "    rz = np.array([[np.cos(az), -np.sin(az), 0], [np.sin(az), np.cos(az), 0], [0, 0, 1]])\n",
    "    q = np.array([x, y, z + e])\n",
    "    p = np.matmul(rz, np.matmul(rx, q))\n",
    "    x, y, z = p\n",
    "    h = np.sqrt(x * x + y * y)\n",
    "    lam = np.arctan2(y, x)\n",
    "    phi = np.arctan2(z, h)\n",
    "    lat, lon = np.rad2deg(phi), np.rad2deg(lam)\n",
    "    return lat, lon"
   ]
  },
  {
   "cell_type": "code",
   "execution_count": 22,
   "metadata": {},
   "outputs": [
    {
     "name": "stdout",
     "output_type": "stream",
     "text": [
      "olat = 39.7294   olon = 140.0441\n",
      "plat = 39.7394   plon = 140.0441\n"
     ]
    }
   ],
   "source": [
    "x, y, z = 0, 1112, -0.1\n",
    "# lat, lon = 39.7294019, 140.0440751\n",
    "plat, plon = cart2geo(x, y, z, olat=olat, olon=olon)\n",
    "print('olat = {:.4f}   olon = {:.4f}'.format(olat, olon))\n",
    "print('plat = {:.4f}   plon = {:.4f}'.format(plat, plon))"
   ]
  },
  {
   "cell_type": "code",
   "execution_count": null,
   "metadata": {},
   "outputs": [],
   "source": []
  }
 ],
 "metadata": {
  "kernelspec": {
   "display_name": "Python 3",
   "language": "python",
   "name": "python3"
  },
  "language_info": {
   "codemirror_mode": {
    "name": "ipython",
    "version": 3
   },
   "file_extension": ".py",
   "mimetype": "text/x-python",
   "name": "python",
   "nbconvert_exporter": "python",
   "pygments_lexer": "ipython3",
   "version": "3.7.7"
  }
 },
 "nbformat": 4,
 "nbformat_minor": 4
}
