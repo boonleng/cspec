{
 "cells": [
  {
   "cell_type": "markdown",
   "metadata": {},
   "source": [
    "# Dev 03 - Spectral Processing\n",
    "\n",
    "Using the `toshi` module to read in data and process for spectra"
   ]
  },
  {
   "cell_type": "code",
   "execution_count": 1,
   "metadata": {},
   "outputs": [],
   "source": [
    "import os\n",
    "import time\n",
    "import numpy as np\n",
    "import scipy.signal\n",
    "import matplotlib\n",
    "import matplotlib.pyplot as plt\n",
    "\n",
    "import toshi\n",
    "\n",
    "file = os.path.expanduser('~/Downloads/20200614_150015.256007-87-02.iqData.XXXX.AKITA.dat')\n",
    "# file = os.path.expanduser('~/Downloads/20200615_010423.194421-8C-02.iqData.XXXX.AKITA.dat')\n",
    "filesize = os.path.getsize(file)\n",
    "\n",
    "plt.style.use('./darkmode.style')"
   ]
  },
  {
   "cell_type": "code",
   "execution_count": 2,
   "metadata": {},
   "outputs": [
    {
     "name": "stdout",
     "output_type": "stream",
     "text": [
      "Data read in 2.00 s\n"
     ]
    }
   ],
   "source": [
    "s = time.time()\n",
    "ray_pulses, cpi_headers = toshi.read(file)\n",
    "e = time.time()\n",
    "print('Data read in {:.2f} s'.format(e - s))"
   ]
  },
  {
   "cell_type": "code",
   "execution_count": 3,
   "metadata": {},
   "outputs": [],
   "source": [
    "naz = len(ray_pulses)\n",
    "ngate = ray_pulses[0][0].ngate_long_hi\n",
    "# ngate = ray_pulses[0][0].ngate_short_hi\n",
    "z = np.zeros((naz, ngate), dtype=np.single)\n",
    "v = np.zeros((naz, ngate), dtype=np.single)\n",
    "e = np.zeros((naz), dtype=np.single)\n",
    "a = np.zeros((naz), dtype=np.single)\n",
    "r = np.zeros((ngate), dtype=np.single)\n",
    "\n",
    "for k, (pulses, cpi_header) in enumerate(zip(ray_pulses, cpi_headers)):\n",
    "    p = np.zeros((len(pulses), ngate), dtype=np.csingle)\n",
    "    for j, pulse in enumerate(pulses):\n",
    "        p[j, :] = pulse.h_long_hi * np.exp(-1j * pulse.phase_h_long)\n",
    "    pp = p[1:, :] * np.conj(p[:-1, :])\n",
    "    v[k, :] = np.angle(np.sum(pp, axis=0))\n",
    "    z[k, :] = np.sum(np.abs(p), axis=0)\n",
    "\n",
    "# Sweep operations\n",
    "z = 20 * np.log10(z) - 60\n",
    "# v[z < -10] = np.nan"
   ]
  },
  {
   "cell_type": "code",
   "execution_count": null,
   "metadata": {},
   "outputs": [],
   "source": [
    "w, h = 800, 450\n",
    "dpi = 72\n",
    "fig = plt.figure(figsize=[x / dpi for x in (w, h)], dpi=dpi)\n"
   ]
  },
  {
   "cell_type": "code",
   "execution_count": null,
   "metadata": {},
   "outputs": [],
   "source": [
    "# import struct\n",
    "\n",
    "# pri_struct = struct.Struct('I'*32)\n",
    "# n = pri_struct.unpack_from(ray_pulses[0][1].raw_pri)\n",
    "# for k, x in enumerate(n):\n",
    "#     print('{:2d}: {:08X}'.format(k, x))"
   ]
  },
  {
   "cell_type": "code",
   "execution_count": 70,
   "metadata": {},
   "outputs": [],
   "source": [
    "# Radar coordinate\n",
    "# Approximate location from Google Maps: 39.7294019,140.0440751\n",
    "lat, lon = 39.7294019, 140.0440751\n",
    "re = 6371\n",
    "lam = np.deg2rad(lon)\n",
    "phi = np.deg2rad(lat)\n",
    "\n",
    "x = re * np.cos(phi) * np.cos(lam)\n",
    "y = re * np.cos(phi) * np.sin(lam)\n",
    "z = re * np.sin(phi)\n",
    "\n",
    "# Fly to the top of the radar so that:\n",
    "# x-axis is due east\n",
    "# y-axis is due norrth\n",
    "# z-axis is straight up from the radar\n",
    "\n",
    "# Equivalent:\n",
    "# Rotate the earth about the z-axis by -(90 + lon), then\n",
    "# Rotate the earth about the x-axis by -(90 - lat)\n",
    "za = -(0.5 * np.pi + lam)\n",
    "rz = np.array([[np.cos(za), -np.sin(za), 0], [np.sin(za), np.cos(za), 0], [0, 0, 1]])\n",
    "\n",
    "xa = -(0.5 * np.pi - phi)\n",
    "rx = np.array([[1, 0, 0], [0, np.cos(xa), -np.sin(xa)], [0, np.sin(xa), np.cos(xa)]])\n",
    "\n",
    "p = np.array([x, y, z])\n",
    "\n",
    "qq = np.matmul(rz, p)\n",
    "q = np.matmul(rx, np.matmul(rz, p))"
   ]
  },
  {
   "cell_type": "code",
   "execution_count": 129,
   "metadata": {},
   "outputs": [],
   "source": [
    "def geo2cart(lat, lon, olat, olon):\n",
    "    # Convention:\n",
    "    # Longitude = lam = angle from x-axis\n",
    "    # Latitude = phi = angle from xy-plane\n",
    "    re = 6371e3\n",
    "    lam = np.deg2rad(lon)\n",
    "    phi = np.deg2rad(lat)\n",
    "    # Step 1 - rotate the earth about the z-axis by -(90 + lon)\n",
    "    az = np.deg2rad(-(90 + olon))\n",
    "    rz = np.array([[np.cos(az), -np.sin(az), 0], [np.sin(az), np.cos(az), 0], [0, 0, 1]])\n",
    "    # Step 2 - rotate the earth about the x-axis by -(90 - lat)\n",
    "    ax = np.deg2rad(-(90 - olat))\n",
    "    rx = np.array([[1, 0, 0], [0, np.cos(ax), -np.sin(ax)], [0, np.sin(ax), np.cos(ax)]])\n",
    "    # Matrix multiplication form\n",
    "    p = np.array([\n",
    "        np.cos(phi) * np.cos(lam),\n",
    "        np.cos(phi) * np.sin(lam),\n",
    "        np.sin(phi)\n",
    "    ])\n",
    "    q = re * np.matmul(rx, np.matmul(rz, p))\n",
    "    return q[0], q[1], q[2] - re"
   ]
  },
  {
   "cell_type": "code",
   "execution_count": 136,
   "metadata": {},
   "outputs": [],
   "source": [
    "x, y, z = geo2cart(lat + 0.01, lon, olat=lat, olon=lon)\n",
    "# x, y, z = geo2cart(lat, lon, lat, lon)"
   ]
  },
  {
   "cell_type": "code",
   "execution_count": 137,
   "metadata": {},
   "outputs": [
    {
     "name": "stdout",
     "output_type": "stream",
     "text": [
      "3.536615444943436e-10 1111.9492607993116 -0.09703587926924229\n"
     ]
    }
   ],
   "source": [
    "print(x, y, z)"
   ]
  },
  {
   "cell_type": "code",
   "execution_count": null,
   "metadata": {},
   "outputs": [],
   "source": []
  }
 ],
 "metadata": {
  "kernelspec": {
   "display_name": "Python 3",
   "language": "python",
   "name": "python3"
  },
  "language_info": {
   "codemirror_mode": {
    "name": "ipython",
    "version": 3
   },
   "file_extension": ".py",
   "mimetype": "text/x-python",
   "name": "python",
   "nbconvert_exporter": "python",
   "pygments_lexer": "ipython3",
   "version": "3.7.7"
  }
 },
 "nbformat": 4,
 "nbformat_minor": 4
}
