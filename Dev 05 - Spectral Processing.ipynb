{
 "cells": [
  {
   "cell_type": "markdown",
   "metadata": {},
   "source": [
    "# Dev 04 - Spectral Processing\n",
    "\n",
    "Using the `toshi` module to read in data and process for spectra"
   ]
  },
  {
   "cell_type": "code",
   "execution_count": null,
   "metadata": {},
   "outputs": [],
   "source": [
    "import os\n",
    "import time\n",
    "import numpy as np\n",
    "import scipy.signal\n",
    "import matplotlib\n",
    "import matplotlib.pyplot as plt\n",
    "\n",
    "import toshi\n",
    "import cspec\n",
    "\n",
    "file = os.path.expanduser('~/Downloads/20200614_150015.256007-87-02.iqData.XXXX.AKITA.dat')\n",
    "# file = os.path.expanduser('~/Downloads/20200615_010423.194421-8C-02.iqData.XXXX.AKITA.dat')\n",
    "filesize = os.path.getsize(file)"
   ]
  },
  {
   "cell_type": "code",
   "execution_count": null,
   "metadata": {},
   "outputs": [],
   "source": [
    "zmap = cspec.colormap.zmap()\n",
    "cmap = matplotlib.colors.LinearSegmentedColormap.from_list('colors', zmap[:, :3], N=len(zmap))"
   ]
  },
  {
   "cell_type": "code",
   "execution_count": null,
   "metadata": {},
   "outputs": [],
   "source": [
    "s = time.time()\n",
    "ray_pulses, cpi_headers = toshi.read(file)\n",
    "e = time.time()\n",
    "print('Data read in {:.2f} s'.format(e - s))"
   ]
  },
  {
   "cell_type": "code",
   "execution_count": null,
   "metadata": {},
   "outputs": [],
   "source": [
    "# Dimentions\n",
    "naz = len(ray_pulses)\n",
    "ngate_long = ray_pulses[0][0].ngate_long_hi\n",
    "ngate_short = ray_pulses[0][0].ngate_short_hi\n",
    "ngate = ngate_long + ngate_short\n",
    "\n",
    "# Elevation assumed to be flat from the very first pulse\n",
    "scan_el = ray_pulses[0][0].elevation\n",
    "scan_time = time.strptime(os.path.basename(file)[:15], '%Y%m%d_%H%M%S')\n",
    "\n",
    "# Sampling code from the CPI header\n",
    "fs = 1.0e6 * (1 << cpi_headers[0].fs_code)\n",
    "dr = 3.0e8 / fs / 2\n",
    "r = 1.0e-3 * np.arange(0, ngate, dtype=np.single) * dr\n",
    "\n",
    "# Go through the pulses for azimuth\n",
    "a = np.zeros((naz), dtype=np.single)\n",
    "for k, pulses in enumerate(ray_pulses):\n",
    "    a[k] = pulses[0].azimuth\n",
    "    \n",
    "# Choose ray 2 to whatever that completes the 360-deg coverage\n",
    "n = np.argmin(np.abs(a[3:] - a[2])) + 1\n",
    "a = a[2:n+2]"
   ]
  },
  {
   "cell_type": "code",
   "execution_count": null,
   "metadata": {},
   "outputs": [],
   "source": [
    "# Noise estimate, try azimuth 0, around 20-25 km\n",
    "ia = np.argmin(np.abs(a[3:] - 0.0)) + 1\n",
    "ir, er = np.argmin(np.abs(r - 20.0)), np.argmin(np.abs(r - 25.0))\n",
    "samples = np.zeros((len(ray_pulses[ia]), er-ir), dtype=np.csingle)\n",
    "\n",
    "# Gather the samples. Ignore phase code since we are only interested in amplitude\n",
    "for k, pulse in enumerate(ray_pulses[ia]):\n",
    "    samples[k, :] = pulse.h_long_hi[ir:er]\n",
    "noise = np.mean(np.abs(samples)) ** 2\n",
    "print('Noise estimate in 16-bit ADU: {:.4f}'.format(noise))"
   ]
  },
  {
   "cell_type": "code",
   "execution_count": null,
   "metadata": {},
   "outputs": [],
   "source": [
    "s = np.zeros((naz, ngate), dtype=np.single)\n",
    "v = np.zeros((naz, ngate), dtype=np.single)\n",
    "\n",
    "# Go through the pulses\n",
    "for k, (pulses, cpi_header) in enumerate(zip(ray_pulses, cpi_headers)):\n",
    "    p = np.zeros((len(pulses), ngate), dtype=np.csingle)\n",
    "    for j, pulse in enumerate(pulses):\n",
    "        p[j, ngate_short:] = pulse.h_long_hi * np.exp(-1j * pulse.phase_h_long)\n",
    "        p[j, :ngate_short] = pulse.h_short_hi * np.exp(-1j * pulse.phase_h_short)\n",
    "    # pp = pp - np.mean(pp, axis=0)\n",
    "    pp = p[1:, :] * np.conj(p[:-1, :])\n",
    "    s[k, :] = np.mean(np.abs(p) ** 2, axis=0)\n",
    "    v[k, :] = np.angle(np.sum(pp, axis=0))\n",
    "\n",
    "# Signal\n",
    "s -= noise\n",
    "s[s <= 0] = 0.01\n",
    "snr = 10 * np.log10(s / noise)\n",
    "z = 10 * np.log10(s * (r + 0.5e-3 * dr) ** 2) - 60\n",
    "# z[:, :ngate_short] -= 20\n",
    "\n",
    "# Thresholding\n",
    "m = snr < 0\n",
    "z[m] = np.nan\n",
    "v[m] = np.nan\n",
    "\n",
    "# Choose ray 2 to whatever that completes the 360-deg coverage\n",
    "v = v[2:n+2, :]\n",
    "z = z[2:n+2, :]\n",
    "s = s[2:n+2, :]\n",
    "snr = snr[2:n+2, :]"
   ]
  },
  {
   "cell_type": "code",
   "execution_count": null,
   "metadata": {},
   "outputs": [],
   "source": [
    "ce = np.cos(np.deg2rad(scan_el))\n",
    "rr, aa = np.meshgrid(r, np.deg2rad(a))\n",
    "xx = rr * ce * np.sin(aa)\n",
    "yy = rr * ce * np.cos(aa)\n",
    "\n",
    "sweep = {\n",
    "    'longitude': 140.0440751,\n",
    "    'latitude': 39.7294019,\n",
    "    'scan_time': scan_time,\n",
    "    'scan_el': scan_el,\n",
    "    'aa': aa,\n",
    "    'rr': rr,\n",
    "    'z': z,\n",
    "    'v': v,\n",
    "    'm': m\n",
    "}"
   ]
  },
  {
   "cell_type": "code",
   "execution_count": null,
   "metadata": {},
   "outputs": [],
   "source": [
    "# turbines = toshi.turbine_cells\n",
    "\n",
    "# a_turb = turbines[:, 0] / 180.0 * np.pi\n",
    "# r_turb = turbines[:, 1]\n",
    "# x_turb = r_turb * np.sin(a_turb)\n",
    "# y_turb = r_turb * np.cos(a_turb)\n",
    "\n",
    "\n",
    "plt.figure(figsize=(5.25, 4), dpi=200)\n",
    "# plt.pcolormesh(xx, yy, z, cmap=cmap)\n",
    "# plt.pcolormesh(xx[::2, :500], yy[::2, :500], z[::2, :500], cmap=cmap)\n",
    "plt.pcolormesh(xx[:, :500], yy[:, :500], z[:, :500], cmap=cmap)\n",
    "# plt.plot(x_turb, y_turb, 'xw')\n",
    "# plt.clim((-32, 96))\n",
    "plt.colorbar()\n",
    "plt.grid()\n",
    "# plt.xlim((0, 5))\n",
    "# plt.ylim((-10.5, -5.5))\n",
    "# plt.xlim((-5, 1))\n",
    "# plt.ylim((4, 10))\n",
    "plt.xlim((-20, 5))\n",
    "plt.ylim((0, 25))"
   ]
  },
  {
   "cell_type": "code",
   "execution_count": null,
   "metadata": {},
   "outputs": [],
   "source": [
    "# cells = cinterp.pos2cellid(turbines, a, r)"
   ]
  },
  {
   "cell_type": "code",
   "execution_count": null,
   "metadata": {},
   "outputs": [],
   "source": []
  }
 ],
 "metadata": {
  "kernelspec": {
   "display_name": "Python 3",
   "language": "python",
   "name": "python3"
  },
  "language_info": {
   "codemirror_mode": {
    "name": "ipython",
    "version": 3
   },
   "file_extension": ".py",
   "mimetype": "text/x-python",
   "name": "python",
   "nbconvert_exporter": "python",
   "pygments_lexer": "ipython3",
   "version": "3.7.7"
  }
 },
 "nbformat": 4,
 "nbformat_minor": 4
}
