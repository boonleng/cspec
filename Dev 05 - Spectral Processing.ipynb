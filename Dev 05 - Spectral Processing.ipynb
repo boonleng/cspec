{
 "cells": [
  {
   "cell_type": "markdown",
   "metadata": {},
   "source": [
    "# Dev 04 - Spectral Processing\n",
    "\n",
    "Using the `toshi` module to read in data and process for spectra"
   ]
  },
  {
   "cell_type": "code",
   "execution_count": null,
   "metadata": {},
   "outputs": [],
   "source": [
    "import os\n",
    "import time\n",
    "import numpy as np\n",
    "import scipy.signal\n",
    "import matplotlib\n",
    "import matplotlib.pyplot as plt\n",
    "\n",
    "import toshi\n",
    "import cspec\n",
    "\n",
    "file = os.path.expanduser('~/Downloads/20200614_150015.256007-87-02.iqData.XXXX.AKITA.dat')\n",
    "# file = os.path.expanduser('~/Downloads/20200615_010423.194421-8C-02.iqData.XXXX.AKITA.dat')\n",
    "filesize = os.path.getsize(file)"
   ]
  },
  {
   "cell_type": "code",
   "execution_count": null,
   "metadata": {},
   "outputs": [],
   "source": [
    "zmap = cspec.colormap.zmap()\n",
    "cmap = matplotlib.colors.LinearSegmentedColormap.from_list('colors', zmap[:, :3], N=len(zmap))"
   ]
  },
  {
   "cell_type": "code",
   "execution_count": null,
   "metadata": {},
   "outputs": [],
   "source": [
    "s = time.time()\n",
    "ray_pulses, cpi_headers = toshi.read(file)\n",
    "e = time.time()\n",
    "print('Data read in {:.2f} s'.format(e - s))\n",
    "\n",
    "# Go through the pulses for azimuth\n",
    "a = np.zeros(len(ray_pulses), dtype=np.single)\n",
    "for k, pulses in enumerate(ray_pulses):\n",
    "    a[k] = pulses[0].azimuth\n",
    "    \n",
    "# Choose ray 2 to whatever that completes the 360-deg coverage\n",
    "n = np.argmin(np.abs(a[3:] - a[2])) + 1\n",
    "a = a[2:n+2]\n",
    "\n",
    "# Subsetting\n",
    "ray_pulses = ray_pulses[2:n+2]\n",
    "cpi_headers = cpi_headers[2:n+2]"
   ]
  },
  {
   "cell_type": "code",
   "execution_count": null,
   "metadata": {},
   "outputs": [],
   "source": [
    "# Dimensions\n",
    "naz = len(ray_pulses)\n",
    "ngate_long = ray_pulses[0][0].ngate_long_hi\n",
    "ngate_short = ray_pulses[0][0].ngate_short_hi\n",
    "ngate = ngate_long + ngate_short\n",
    "\n",
    "# Elevation assumed to be flat from the very first pulse\n",
    "scan_el = ray_pulses[0][0].elevation\n",
    "scan_time = time.strptime(os.path.basename(file)[:15], '%Y%m%d_%H%M%S')\n",
    "\n",
    "# Sampling code from the CPI header\n",
    "fs = 1.0e6 * (1 << cpi_headers[0].fs_code)\n",
    "dr = 3.0e8 / fs / 2\n",
    "r = 1.0e-3 * np.arange(0, ngate, dtype=np.single) * dr"
   ]
  },
  {
   "cell_type": "code",
   "execution_count": null,
   "metadata": {},
   "outputs": [],
   "source": [
    "# Noise estimate, try azimuth 0, around 20-25 km\n",
    "ia = np.argmin(np.abs(a[3:] - 0.0)) + 1\n",
    "ir, er = np.argmin(np.abs(r - 20.0)), np.argmin(np.abs(r - 25.0))\n",
    "samples = np.zeros((len(ray_pulses[ia]), er-ir), dtype=np.csingle)\n",
    "\n",
    "# Gather the samples. Ignore phase code since we are only interested in amplitude\n",
    "for k, pulse in enumerate(ray_pulses[ia]):\n",
    "    samples[k, :] = pulse.h_long_hi[ir:er]\n",
    "noise = np.mean(np.abs(samples)) ** 2\n",
    "print('Noise estimate in 16-bit ADU: {:.4f}'.format(noise))"
   ]
  },
  {
   "cell_type": "code",
   "execution_count": null,
   "metadata": {},
   "outputs": [],
   "source": [
    "s = np.zeros((naz, ngate), dtype=np.single)\n",
    "v = np.zeros((naz, ngate), dtype=np.single)\n",
    "\n",
    "# Go through the pulses\n",
    "a = np.zeros(len(ray_pulses), dtype=np.single)\n",
    "for k, (pulses, cpi_header) in enumerate(zip(ray_pulses, cpi_headers)):\n",
    "    p = np.zeros((len(pulses), ngate), dtype=np.csingle)\n",
    "    a[k] = pulses[0].azimuth\n",
    "    for j, pulse in enumerate(pulses):\n",
    "        p[j, ngate_short:] = pulse.h_long_hi * np.exp(-1j * pulse.phase_h_long)\n",
    "        p[j, :ngate_short] = pulse.h_short_hi * np.exp(-1j * pulse.phase_h_short)\n",
    "    # pp = pp - np.mean(pp, axis=0)\n",
    "    pp = p[1:, :] * np.conj(p[:-1, :])\n",
    "    s[k, :] = np.mean(np.abs(p) ** 2, axis=0)\n",
    "    v[k, :] = np.angle(np.sum(pp, axis=0))\n",
    "\n",
    "# Signal\n",
    "s -= noise\n",
    "s[s <= 0] = 1.0e-6                                    # Avoid log(0)\n",
    "snr = 10 * np.log10(s / noise)                        # Signal-to-noise ratio\n",
    "z = 10 * np.log10(s * (r + 0.5e-3 * dr) ** 2) - 40    # Estimated ZCal = -40 \n",
    "z[:, :ngate_short] += 20                              # 20-dB on the low channel, perhaps?\n",
    "\n",
    "# Thresholding\n",
    "m = snr < 0\n",
    "z[m] = np.nan\n",
    "v[m] = np.nan"
   ]
  },
  {
   "cell_type": "code",
   "execution_count": null,
   "metadata": {},
   "outputs": [],
   "source": [
    "ce = np.cos(np.deg2rad(scan_el))\n",
    "rr, aa = np.meshgrid(r, np.deg2rad(a))\n",
    "xx = rr * ce * np.sin(aa)\n",
    "yy = rr * ce * np.cos(aa)\n",
    "\n",
    "sweep = {\n",
    "    'longitude': 140.0440751,\n",
    "    'latitude': 39.7294019,\n",
    "    'scan_time': scan_time,\n",
    "    'scan_el': scan_el,\n",
    "    'aa': aa,\n",
    "    'rr': rr,\n",
    "    'z': z,\n",
    "    'v': v,\n",
    "    'm': m\n",
    "}"
   ]
  },
  {
   "cell_type": "code",
   "execution_count": null,
   "metadata": {},
   "outputs": [],
   "source": [
    "turbines = toshi.turbine_cells\n",
    "a_turb = turbines[:, 0] / 180.0 * np.pi\n",
    "r_turb = turbines[:, 1]\n",
    "x_turb = r_turb * np.sin(a_turb)\n",
    "y_turb = r_turb * np.cos(a_turb)\n",
    "\n",
    "plt.figure(figsize=(5.25, 4), dpi=200)\n",
    "plt.pcolormesh(xx[:, :500], yy[:, :500], z[:, :500], cmap=cmap)\n",
    "plt.plot(x_turb, y_turb, 'xk')\n",
    "plt.clim((-32, 96))\n",
    "plt.xlim((-13, 5))\n",
    "plt.ylim((3, 18))\n",
    "plt.colorbar()\n",
    "plt.grid(linewidth=0.25)"
   ]
  },
  {
   "cell_type": "code",
   "execution_count": null,
   "metadata": {},
   "outputs": [],
   "source": [
    "cells = cspec.pos2cellid(turbines, a, r)\n",
    "\n",
    "m = np.zeros(z.shape, dtype=bool)\n",
    "for c in cells:\n",
    "    m[c[0], c[1]] = True\n",
    "m[:, 1:] = np.logical_or(m[:, 1:], m[:, :-1])\n",
    "m[:, 1:] = np.logical_or(m[:, 1:], m[:, :-1])\n",
    "m[:, 1:] = np.logical_or(m[:, 1:], m[:, :-1])\n",
    "m = cspec.dilate(m)\n",
    "m = cspec.dilate(m)\n",
    "m[:, 1:] = np.logical_or(m[:, 1:], m[:, :-1])\n",
    "\n",
    "m1 = cspec.dilate(m)\n",
    "m2 = cspec.dilate(m1)\n",
    "\n",
    "tags = cspec.mask2tags(m1)\n",
    "\n",
    "# Take out the dilated portion\n",
    "tags[m1 ^ m] = 0"
   ]
  },
  {
   "cell_type": "code",
   "execution_count": null,
   "metadata": {},
   "outputs": [],
   "source": [
    "# Gather the 1st cluster\n",
    "mask = tags == 1\n",
    "dmask = cspec.dilate(cspec.dilate(mask))\n",
    "gmask = dmask ^ mask\n",
    "\n",
    "# Overide the beginning and end of the cluster\n",
    "gmask[:, :128] = False\n",
    "gmask[:, 210:] = False\n",
    "\n",
    "# Cluster tags in 5-interval\n",
    "img = 5.0 * (mask + 2.0 * gmask)\n",
    "img[img < 1] = np.nan\n",
    "\n",
    "plt.figure(figsize=(5.25, 4), dpi=200)\n",
    "plt.pcolormesh(xx, yy, img, cmap=cmap)\n",
    "plt.clim((-32, 96))\n",
    "plt.xlim((-13, 5))\n",
    "plt.ylim((3, 18))\n",
    "plt.colorbar()\n",
    "plt.grid(linewidth=0.25)"
   ]
  },
  {
   "cell_type": "code",
   "execution_count": null,
   "metadata": {},
   "outputs": [],
   "source": [
    "tt = np.unique(tags)"
   ]
  },
  {
   "cell_type": "code",
   "execution_count": null,
   "metadata": {},
   "outputs": [],
   "source": [
    "dirty_cells = cspec.mask2cells(mask)\n",
    "clean_cells = cspec.mask2cells(gmask)"
   ]
  },
  {
   "cell_type": "code",
   "execution_count": null,
   "metadata": {},
   "outputs": [],
   "source": [
    "nfft = 128\n",
    "spec = np.zeros(nfft, dtype=np.single)\n",
    "for (ia, ir) in clean_cells:\n",
    "    p = np.zeros(len(ray_pulses[ia]), dtype=np.csingle)\n",
    "    for k, pulse in enumerate(ray_pulses[ia]):\n",
    "        p[k] = pulse.h_long_hi[ir - ngate_short]\n",
    "    spec += np.abs(np.fft.fft(p, nfft))\n",
    "\n",
    "# m-tap circular averaging\n",
    "# m = int(nfft * 0.1)\n",
    "# m = int(np.ceil(nfft * 0.05))\n",
    "m = 1\n",
    "filt = spec.copy()\n",
    "for k in range(1, m):\n",
    "    filt += np.roll(spec, k)\n",
    "filt /= np.mean(filt)"
   ]
  },
  {
   "cell_type": "code",
   "execution_count": null,
   "metadata": {},
   "outputs": [],
   "source": [
    "plt.figure(dpi=200)\n",
    "plt.plot(np.arange(-nfft/2, nfft/2) / nfft * np.pi, 20.0 * np.log10(np.fft.fftshift(filt)))\n",
    "plt.xlim((-1.6, 1.6))\n",
    "plt.ylim((-60, 3))\n",
    "plt.grid(linewidth=0.25)\n",
    "plt.xlabel('Omega (rad/sample)')\n",
    "plt.ylabel('Filter Amplitude (dB)')\n",
    "plt.title('Adaptive Filter Derived from the Clean Cells (m = {})'.format(m))\n",
    "plt.show()"
   ]
  },
  {
   "cell_type": "code",
   "execution_count": null,
   "metadata": {},
   "outputs": [],
   "source": [
    "sc = s.copy() + noise\n",
    "\n",
    "for (ia, ir) in dirty_cells:\n",
    "    p = np.zeros(len(ray_pulses[ia]), dtype=np.csingle)\n",
    "    for k, pulse in enumerate(ray_pulses[ia]):\n",
    "        p[k] = pulse.h_long_hi[ir - ngate_short]\n",
    "    # For sanity check, this should be identical to the original s\n",
    "    # sc[ia, ir] = np.mean(np.abs(p) ** 2)\n",
    "\n",
    "    spec = np.abs(np.fft.fft(p, nfft))\n",
    "    spec *= filt\n",
    "    sc[ia, ir] = np.sum(spec ** 2 / len(p) / nfft)\n",
    "\n",
    "# Signal\n",
    "sc -= noise\n",
    "sc[sc <= 0] = 1.0e-6                                    # Avoid log(0)\n",
    "\n",
    "# Reflectivity calculation\n",
    "snr = 10 * np.log10(sc / noise)                         # Signal-to-noise ratio\n",
    "zc = 10 * np.log10(sc * (r + 0.5e-3 * dr) ** 2) - 40    # Estimated ZCal = -40 \n",
    "zc[:, :ngate_short] += 20                               # 20-dB on the low channel, perhaps?\n",
    "\n",
    "# Thresholding\n",
    "m = snr < 0\n",
    "zc[m] = np.nan"
   ]
  },
  {
   "cell_type": "code",
   "execution_count": null,
   "metadata": {},
   "outputs": [],
   "source": [
    "plt.figure(figsize=(5.25, 4), dpi=200)\n",
    "plt.pcolormesh(xx[:, :500], yy[:, :500], zc[:, :500], cmap=cmap)\n",
    "# plt.plot(x_turb, y_turb, '.k')\n",
    "plt.clim((-32, 96))\n",
    "plt.xlim((-13, 5))\n",
    "plt.ylim((3, 18))\n",
    "plt.colorbar()\n",
    "plt.grid(linewidth=0.25)"
   ]
  },
  {
   "cell_type": "code",
   "execution_count": null,
   "metadata": {},
   "outputs": [],
   "source": [
    "plt.close()"
   ]
  },
  {
   "cell_type": "code",
   "execution_count": null,
   "metadata": {},
   "outputs": [],
   "source": []
  }
 ],
 "metadata": {
  "kernelspec": {
   "display_name": "Python 3",
   "language": "python",
   "name": "python3"
  },
  "language_info": {
   "codemirror_mode": {
    "name": "ipython",
    "version": 3
   },
   "file_extension": ".py",
   "mimetype": "text/x-python",
   "name": "python",
   "nbconvert_exporter": "python",
   "pygments_lexer": "ipython3",
   "version": "3.7.7"
  }
 },
 "nbformat": 4,
 "nbformat_minor": 4
}
