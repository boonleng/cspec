{
 "cells": [
  {
   "cell_type": "markdown",
   "metadata": {},
   "source": [
    "# Dev 04 - Spectral Processing\n",
    "\n",
    "Using the `toshi` module to read in data and process for spectra"
   ]
  },
  {
   "cell_type": "code",
   "execution_count": 1,
   "metadata": {},
   "outputs": [],
   "source": [
    "import os\n",
    "import time\n",
    "import numpy as np\n",
    "import scipy.signal\n",
    "import matplotlib\n",
    "import matplotlib.pyplot as plt\n",
    "\n",
    "import toshi\n",
    "\n",
    "file = os.path.expanduser('~/Downloads/20200614_150015.256007-87-02.iqData.XXXX.AKITA.dat')\n",
    "# file = os.path.expanduser('~/Downloads/20200615_010423.194421-8C-02.iqData.XXXX.AKITA.dat')\n",
    "filesize = os.path.getsize(file)"
   ]
  },
  {
   "cell_type": "code",
   "execution_count": 2,
   "metadata": {},
   "outputs": [
    {
     "name": "stdout",
     "output_type": "stream",
     "text": [
      "Data read in 1.99 s\n"
     ]
    }
   ],
   "source": [
    "s = time.time()\n",
    "ray_pulses, cpi_headers = toshi.read(file)\n",
    "e = time.time()\n",
    "print('Data read in {:.2f} s'.format(e - s))"
   ]
  },
  {
   "cell_type": "code",
   "execution_count": 3,
   "metadata": {},
   "outputs": [],
   "source": [
    "naz = len(ray_pulses)\n",
    "ngate = ray_pulses[0][0].ngate_long_hi\n",
    "# ngate = ray_pulses[0][0].ngate_short_hi\n",
    "z = np.zeros((naz, ngate), dtype=np.single)\n",
    "v = np.zeros((naz, ngate), dtype=np.single)\n",
    "e = np.zeros((naz), dtype=np.single)\n",
    "a = np.zeros((naz), dtype=np.single)\n",
    "r = np.zeros((ngate), dtype=np.single)\n",
    "\n",
    "for k, (pulses, cpi_header) in enumerate(zip(ray_pulses, cpi_headers)):\n",
    "    p = np.zeros((len(pulses), ngate), dtype=np.csingle)\n",
    "    for j, pulse in enumerate(pulses):\n",
    "        p[j, :] = pulse.h_long_hi * np.exp(-1j * pulse.phase_h_long)\n",
    "    pp = p[1:, :] * np.conj(p[:-1, :])\n",
    "    v[k, :] = np.angle(np.sum(pp, axis=0))\n",
    "    z[k, :] = np.sum(np.abs(p), axis=0)\n",
    "\n",
    "# Sweep operations\n",
    "z = 20 * np.log10(z) - 60\n",
    "# v[z < -10] = np.nan"
   ]
  },
  {
   "cell_type": "code",
   "execution_count": 4,
   "metadata": {},
   "outputs": [],
   "source": [
    "# import struct\n",
    "\n",
    "# pri_struct = struct.Struct('I'*32)\n",
    "# n = pri_struct.unpack_from(ray_pulses[0][1].raw_pri)\n",
    "# for k, x in enumerate(n):\n",
    "#     print('{:2d}: {:08X}'.format(k, x))"
   ]
  },
  {
   "cell_type": "code",
   "execution_count": 5,
   "metadata": {},
   "outputs": [
    {
     "data": {
      "text/plain": [
       "<Figure size 800x450 with 0 Axes>"
      ]
     },
     "metadata": {},
     "output_type": "display_data"
    }
   ],
   "source": [
    "w, h = 800, 450\n",
    "dpi = 72\n",
    "fig = plt.figure(figsize=[x / dpi for x in (w, h)], dpi=dpi)"
   ]
  },
  {
   "cell_type": "code",
   "execution_count": null,
   "metadata": {},
   "outputs": [],
   "source": []
  }
 ],
 "metadata": {
  "kernelspec": {
   "display_name": "Python 3",
   "language": "python",
   "name": "python3"
  },
  "language_info": {
   "codemirror_mode": {
    "name": "ipython",
    "version": 3
   },
   "file_extension": ".py",
   "mimetype": "text/x-python",
   "name": "python",
   "nbconvert_exporter": "python",
   "pygments_lexer": "ipython3",
   "version": "3.7.7"
  }
 },
 "nbformat": 4,
 "nbformat_minor": 4
}
