{
 "cells": [
  {
   "cell_type": "markdown",
   "metadata": {},
   "source": [
    "# Read Functions\n",
    "\n",
    "Continuation of the previous notebook. Will modularize the read components into functions"
   ]
  },
  {
   "cell_type": "code",
   "execution_count": null,
   "metadata": {},
   "outputs": [],
   "source": [
    "import os\n",
    "import time\n",
    "import glob\n",
    "import struct\n",
    "import numpy as np\n",
    "import matplotlib\n",
    "import matplotlib.pyplot as plt\n",
    "\n",
    "file = os.path.expanduser('~/Downloads/20200614_150015.256007-87-02.iqData.XXXX.AKITA.dat')\n",
    "# file = os.path.expanduser('~/Downloads/20200615_010423.194421-8C-02.iqData.XXXX.AKITA.dat')\n",
    "filesize = os.path.getsize(file)\n",
    "\n",
    "plt.style.use('./darkmode.style')"
   ]
  },
  {
   "cell_type": "code",
   "execution_count": null,
   "metadata": {},
   "outputs": [],
   "source": [
    "class Object(object):\n",
    "    pass"
   ]
  },
  {
   "cell_type": "code",
   "execution_count": null,
   "metadata": {},
   "outputs": [],
   "source": [
    "def read_file(file, verbose=0):\n",
    "    # Some pre-defined structure\n",
    "    head_struct = struct.Struct('IIIIHH')\n",
    "    pack_struct = struct.Struct('IIIIIHHI')\n",
    "    cpi_struct = struct.Struct('IIIIHHHHHHHHHHIII')\n",
    "    pri_struct = struct.Struct('IIHHHH')\n",
    "\n",
    "    # Pulse\n",
    "    def read_pulse(fid, pri_struct, cpi_header):\n",
    "        tmp = fid.read(32 * 4)\n",
    "        n = pri_struct.unpack_from(tmp)\n",
    "        if n[0] != 0x11111111 or n[1] != 0xEEEEEEEE:\n",
    "            print('Error: Incorrect check codes: 0x{:08X} 0x{:08X}'.format(n[0], n[1]))\n",
    "            return None\n",
    "\n",
    "        # I/Q data\n",
    "        def read_iq_block(align_num, num, fid):\n",
    "            if align_num:\n",
    "                tmp = fid.read(align_num * 4)\n",
    "                raw = np.frombuffer(tmp, dtype='<i2', count=num*2)\n",
    "                return np.array(raw[::2] + 1j * raw[1::2], dtype=np.csingle)\n",
    "            else:\n",
    "                return np.empty(0)\n",
    "\n",
    "        # Pulse\n",
    "        pulse = Object()\n",
    "        pulse.azimuth = (n[4] & 0x3FFF) * 360 / 2 ** 14\n",
    "        pulse.elevation = (n[5] & 0x3FFF) * 180 / 2 ** 13\n",
    "        pulse.ngate_long_hi = cpi_header.num_range_long_hi\n",
    "        pulse.ngate_long_lo = cpi_header.num_range_long_lo\n",
    "        pulse.ngate_short_hi = cpi_header.num_range_short_hi\n",
    "        pulse.ngate_short_lo = cpi_header.num_range_short_lo\n",
    "\n",
    "        # H channel data\n",
    "        pulse.h_long_hi = read_iq_block(cpi_header.align_num_range_long_hi, cpi_header.num_range_long_hi, fid)\n",
    "        pulse.h_long_lo = read_iq_block(cpi_header.align_num_range_long_lo, cpi_header.num_range_long_lo, fid)\n",
    "        pulse.h_short_hi = read_iq_block(cpi_header.align_num_range_short_hi, cpi_header.num_range_short_hi, fid)\n",
    "        pulse.h_short_lo = read_iq_block(cpi_header.align_num_range_short_lo, cpi_header.num_range_short_lo, fid)\n",
    "\n",
    "        # V channel data\n",
    "        pulse.v_long_hi = read_iq_block(cpi_header.align_num_range_long_hi, cpi_header.num_range_long_hi, fid)\n",
    "        pulse.v_long_lo = read_iq_block(cpi_header.align_num_range_long_lo, cpi_header.num_range_long_lo, fid)\n",
    "        pulse.v_short_hi = read_iq_block(cpi_header.align_num_range_short_hi, cpi_header.num_range_short_hi, fid)\n",
    "        pulse.v_short_lo = read_iq_block(cpi_header.align_num_range_short_lo, cpi_header.num_range_short_lo, fid)\n",
    "\n",
    "        return pulse\n",
    "\n",
    "\n",
    "    # CPI data header\n",
    "    def read_cpi_header(fid, cpi_struct):\n",
    "        tmp = fid.read(32 * 4)\n",
    "        n = cpi_struct.unpack_from(tmp)\n",
    "        if n[0] != 0x0055AAFF or n[1] != 0xFFAA5500:\n",
    "            print('Error: Incorrect check codes: 0x{:08X} 0x{:08X}'.format(n[0], n[1]))\n",
    "            return None\n",
    "\n",
    "        cpi_header = Object()\n",
    "        cpi_header.check_code_1 = n[0]\n",
    "        cpi_header.check_code_2 = n[1]\n",
    "        cpi_header.check_counter = n[2]\n",
    "        cpi_header.data_size = n[3]\n",
    "        cpi_header.count = n[4]\n",
    "        cpi_header.num_samples = n[5]\n",
    "        cpi_header.align_num_range_short_hi = n[6]\n",
    "        cpi_header.align_num_range_short_lo = n[7]\n",
    "        cpi_header.align_num_range_long_hi = n[8]\n",
    "        cpi_header.align_num_range_long_lo = n[9]\n",
    "        cpi_header.num_range_short_hi = n[10]\n",
    "        cpi_header.num_range_short_lo = n[11]\n",
    "        cpi_header.num_range_long_hi = n[12]\n",
    "        cpi_header.num_range_long_lo = n[13]\n",
    "\n",
    "        return cpi_header\n",
    "\n",
    "    # PACK data header\n",
    "    def read_pack_header(fid, pack_struct):\n",
    "        tmp = fid.read(32 * 4)\n",
    "        n = pack_struct.unpack_from(tmp)\n",
    "        if n[0] != 0x55555555 or n[1] != 0xAAAAAAAA:\n",
    "            print('Error: Incorrect check codes: 0x{:08X} 0x{:08X}'.format(n[0], n[1]))\n",
    "            return None\n",
    "\n",
    "        pack_header = Object()\n",
    "        pack_header.check_code_1 = n[0]\n",
    "        pack_header.check_code_2 = n[1]\n",
    "        pack_header.check_counter = n[2]\n",
    "        pack_header.num_cpi = n[3]\n",
    "        pack_header.pack_data_size = n[4]\n",
    "        pack_header.division_number = n[5]\n",
    "        pack_header.division_part_number = n[6]\n",
    "        pack_header.mode = n[7] & 0x2 >> 1\n",
    "\n",
    "        return pack_header\n",
    "\n",
    "    # File header\n",
    "    def read_file_header(fid, head_struct):\n",
    "        tmp = fid.read(24)\n",
    "        n = head_struct.unpack_from(tmp)\n",
    "        file_header = Object()\n",
    "        file_header.check_code_1 = n[0]\n",
    "        file_header.check_code_2 = n[1]\n",
    "        file_header.unknown_1 = n[2]\n",
    "        file_header.unknown_2 = n[3]\n",
    "        file_header.pack_count = n[4]\n",
    "\n",
    "        return file_header\n",
    "    \n",
    "    # Open the file\n",
    "    fid = open(file, 'rb')\n",
    "    file_header = read_file_header(fid, head_struct)\n",
    "    pack_header = read_pack_header(fid, pack_struct)\n",
    "\n",
    "    if verbose:\n",
    "        print('File check code 1: 0x{:08X}'.format(file_header.check_code_1))\n",
    "        print('File check code 2: 0x{:08X}'.format(file_header.check_code_2))\n",
    "        print('Pack count: {}'.format(file_header.pack_count))\n",
    "        print('')\n",
    "        print('Pack check code 1: 0x{:X}'.format(pack_header.check_code_1))\n",
    "        print('Pack check code 2: 0x{:X}'.format(pack_header.check_code_2))\n",
    "        print('Pack check counter: {}'.format(pack_header.check_counter))\n",
    "        print('Number of CPI: {}'.format(pack_header.num_cpi))\n",
    "        print('Pack data size: {}'.format(pack_header.pack_data_size))\n",
    "        print('Division number: {} / {}'.format(\n",
    "            pack_header.division_number, pack_header.division_part_number))\n",
    "        print('Observation mode: {}'.format(pack_header.mode))\n",
    "        \n",
    "    # Rewind back to just after the file header\n",
    "    fid.seek(24, 0)\n",
    "\n",
    "    rays = []\n",
    "    for _ in range(file_header.pack_count):\n",
    "        pack_header = read_pack_header(fid, pack_struct)\n",
    "        if verbose:\n",
    "            print('Number of CPI: {}'.format(pack_header.num_cpi))\n",
    "        for _ in range(pack_header.num_cpi):\n",
    "            cpi_header = read_cpi_header(fid, cpi_struct)\n",
    "            if cpi_header:\n",
    "                pulses = []\n",
    "                for k in range(cpi_header.count):\n",
    "                    pulse = read_pulse(fid, pri_struct, cpi_header)\n",
    "                    pulses.append(pulse)\n",
    "                rays.append(pulses)\n",
    "                if verbose:\n",
    "                    print('    cpi:{:3d}   E:{:.2f}   A:{:5.2f}-{:5.2f} ({})   size:{}'.format(\n",
    "                        cpi_header.check_counter,\n",
    "                        pulses[0].elevation, pulses[0].azimuth, pulses[-1].azimuth,\n",
    "                        cpi_header.count,\n",
    "                        cpi_header.data_size))\n",
    "            else:\n",
    "                break\n",
    "    \n",
    "    if filesize < fid.tell():\n",
    "        print('Warning: There is still {} B left.'.format(filesize - fid.tell()))\n",
    "    fid.close()\n",
    "    \n",
    "    return rays"
   ]
  },
  {
   "cell_type": "code",
   "execution_count": null,
   "metadata": {
    "scrolled": false
   },
   "outputs": [],
   "source": [
    "s = time.time()\n",
    "ray_pulses = read_file(file)\n",
    "e = time.time()\n",
    "print('Data read in {:.2f} s'.format(e - s))"
   ]
  },
  {
   "cell_type": "code",
   "execution_count": null,
   "metadata": {},
   "outputs": [],
   "source": [
    "print('Ray summary:')\n",
    "for k, pulses in enumerate(ray_pulses):\n",
    "    print('k:{:3d}    E:{:.2f}   A:{:6.2f}-{:6.2f} ({})'.format(\n",
    "        k, pulses[0].elevation, pulses[0].azimuth, pulses[-1].azimuth, len(pulses)))"
   ]
  },
  {
   "cell_type": "code",
   "execution_count": null,
   "metadata": {},
   "outputs": [],
   "source": [
    "fid = open(file, 'rb')\n",
    "fid.seek(408, 0)\n",
    "tmp = fid.read(16)\n",
    "num = np.frombuffer(tmp, '<i2')\n",
    "fid.close()\n",
    "print(tmp)\n",
    "print(num)\n",
    "x = np.array(num[::2] + 1j * num[1::2], dtype=np.csingle)\n",
    "print(x)\n",
    "print(ray_pulses[0][0].h_long_hi[:4])"
   ]
  },
  {
   "cell_type": "code",
   "execution_count": null,
   "metadata": {},
   "outputs": [],
   "source": [
    "naz = len(ray_pulses)\n",
    "ngate = ray_pulses[0][0].ngate_long_hi\n",
    "# ngate = ray_pulses[0][0].ngate_short_hi\n",
    "z = np.zeros((naz, ngate), dtype=np.single)\n",
    "v = np.zeros((naz, ngate), dtype=np.single)\n",
    "\n",
    "for k, pulses in enumerate(ray_pulses):\n",
    "    p = np.zeros((len(pulses), ngate), dtype=np.csingle)\n",
    "    for j, pulse in enumerate(pulses):\n",
    "        p[j, :] = pulse.v_long_hi\n",
    "        #p[j, :] = pulse.h_short_hi\n",
    "#     v[k, :] = np.angle(np.sum(p[1:, :] * np.conj(p[:-1, :]), axis=0))\n",
    "    v[k, :] = np.angle(np.sum(np.multiply(p[1:, :], np.conj(p[:-1, :])), axis=0))\n",
    "    z[k, :] = 20 * np.log10(np.sum(np.abs(p), axis=0)) - 60\n",
    "v[z < -10] = np.nan"
   ]
  },
  {
   "cell_type": "code",
   "execution_count": null,
   "metadata": {
    "scrolled": false
   },
   "outputs": [],
   "source": [
    "plt.figure(figsize=(6, 8), dpi=200)\n",
    "plt.subplot(2, 1, 1)\n",
    "plt.imshow(z[:, :500].T)\n",
    "plt.colorbar()\n",
    "\n",
    "cmap = matplotlib.cm.RdYlGn\n",
    "plt.subplot(2, 1, 2)\n",
    "plt.imshow(v[:, :500].T, cmap=cmap, vmin=-np.pi, vmax=np.pi)\n",
    "plt.colorbar()    "
   ]
  },
  {
   "cell_type": "code",
   "execution_count": null,
   "metadata": {},
   "outputs": [],
   "source": [
    "plt.close()"
   ]
  },
  {
   "cell_type": "code",
   "execution_count": null,
   "metadata": {},
   "outputs": [],
   "source": [
    "pulses = ray_pulses[20]\n",
    "p = np.zeros((len(pulses), ngate), dtype=np.csingle)\n",
    "for j, pulse in enumerate(pulses):\n",
    "    p[j, :] = pulse.h_long_hi\n",
    "g = 300"
   ]
  },
  {
   "cell_type": "code",
   "execution_count": null,
   "metadata": {
    "scrolled": false
   },
   "outputs": [],
   "source": [
    "for g in range(300, 305):\n",
    "    plt.figure(dpi=200)\n",
    "    plt.subplot(2, 1, 1)\n",
    "    plt.plot(np.real(p[:, g]))\n",
    "    plt.plot(np.imag(p[:, g]))\n",
    "    \n",
    "    f = np.fft.fft(p[:, g], 512)\n",
    "    plt.subplot(2, 1, 2)\n",
    "    plt.plot(20 * np.log10(np.abs(f)), 'g')\n",
    "    plt.ylim((40, 60))"
   ]
  },
  {
   "cell_type": "code",
   "execution_count": null,
   "metadata": {},
   "outputs": [],
   "source": [
    "for g in range(300, 310):\n",
    "    print(g,\n",
    "          np.angle(np.sum(np.multiply(p[1:, g], np.conj(p[:-1, g])), axis=0)),\n",
    "          np.angle(np.sum(p[1:, g] * np.conj(p[:-1, g]), axis=0)))"
   ]
  },
  {
   "cell_type": "code",
   "execution_count": null,
   "metadata": {
    "scrolled": false
   },
   "outputs": [],
   "source": [
    "g = 300\n",
    "for a in range(50, 53):\n",
    "    pulses = ray_pulses[a]\n",
    "    p = np.zeros((len(pulses), ngate), dtype=np.csingle)\n",
    "    for j, pulse in enumerate(pulses):\n",
    "        p[j, :] = pulse.h_long_hi\n",
    "\n",
    "    plt.figure(dpi=200)\n",
    "    plt.plot(np.real(p[:, g]))\n",
    "    plt.plot(np.imag(p[:, g]))"
   ]
  },
  {
   "cell_type": "code",
   "execution_count": null,
   "metadata": {},
   "outputs": [],
   "source": []
  }
 ],
 "metadata": {
  "kernelspec": {
   "display_name": "Python 3",
   "language": "python",
   "name": "python3"
  },
  "language_info": {
   "codemirror_mode": {
    "name": "ipython",
    "version": 3
   },
   "file_extension": ".py",
   "mimetype": "text/x-python",
   "name": "python",
   "nbconvert_exporter": "python",
   "pygments_lexer": "ipython3",
   "version": "3.7.7"
  }
 },
 "nbformat": 4,
 "nbformat_minor": 4
}
