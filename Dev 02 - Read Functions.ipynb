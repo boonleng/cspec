{
 "cells": [
  {
   "cell_type": "markdown",
   "metadata": {},
   "source": [
    "# Read Functions\n",
    "\n",
    "Continuation of the previous notebook. Will modularize the read components into functions"
   ]
  },
  {
   "cell_type": "code",
   "execution_count": null,
   "metadata": {},
   "outputs": [],
   "source": [
    "import os\n",
    "import glob\n",
    "import struct\n",
    "import numpy as np\n",
    "\n",
    "file = os.path.expanduser('~/Downloads/20200614_150015.256007-87-02.iqData.XXXX.AKITA.dat')"
   ]
  },
  {
   "cell_type": "code",
   "execution_count": null,
   "metadata": {},
   "outputs": [],
   "source": [
    "class Object(object):\n",
    "    pass\n",
    "\n",
    "# Pulse\n",
    "def read_pulse(fid, pri_struct, cpi_header):\n",
    "    tmp = fid.read(32 * 4)\n",
    "    n = pri_struct.unpack_from(tmp)\n",
    "    if n[0] != 0x11111111 or n[1] != 0xEEEEEEEE:\n",
    "        print('Error: Incorrect check codes: 0x{:08X} 0x{:08X}'.format(n[0], n[1]))\n",
    "        return None\n",
    "    \n",
    "    # I/Q data\n",
    "    def read_iq_block(align_num, num, fid):\n",
    "        if align_num:\n",
    "            tmp = fid.read(align_num * 4)\n",
    "            raw = np.frombuffer(tmp, np.int16)\n",
    "            return np.array(raw[::2][:num] + 1j * raw[1::2][:num])\n",
    "        else:\n",
    "            return np.empty(0)\n",
    "\n",
    "    # Pulse\n",
    "    pulse = Object()\n",
    "    pulse.elevation = (n[4] & 0x3FFF) * 360 / 2 ** 14\n",
    "    pulse.azimuth = (n[5] & 0x3FFF) * 180 / 2 ** 13\n",
    "    pulse.ngate_long_hi = cpi_header.num_range_long_hi\n",
    "    pulse.ngate_long_lo = cpi_header.num_range_long_lo\n",
    "    pulse.ngate_short_hi = cpi_header.num_range_short_hi\n",
    "    pulse.ngate_short_lo = cpi_header.num_range_short_lo\n",
    "\n",
    "    # H channel data\n",
    "    pulse.h_long_hi = read_iq_block(cpi_header.align_num_range_long_hi, cpi_header.num_range_long_hi, fid)\n",
    "    pulse.h_long_lo = read_iq_block(cpi_header.align_num_range_long_lo, cpi_header.num_range_long_lo, fid)\n",
    "    pulse.h_short_hi = read_iq_block(cpi_header.align_num_range_short_hi, cpi_header.num_range_short_hi, fid)\n",
    "    pulse.h_short_lo = read_iq_block(cpi_header.align_num_range_short_lo, cpi_header.num_range_short_lo, fid)\n",
    "\n",
    "    # V channel data\n",
    "    pulse.v_long_hi = read_iq_block(cpi_header.align_num_range_long_hi, cpi_header.num_range_long_hi, fid)\n",
    "    pulse.v_long_lo = read_iq_block(cpi_header.align_num_range_long_lo, cpi_header.num_range_long_lo, fid)\n",
    "    pulse.v_short_hi = read_iq_block(cpi_header.align_num_range_short_hi, cpi_header.num_range_short_hi, fid)\n",
    "    pulse.v_short_lo = read_iq_block(cpi_header.align_num_range_short_lo, cpi_header.num_range_short_lo, fid)\n",
    "\n",
    "    return pulse\n",
    "\n",
    "\n",
    "# CPI data header\n",
    "def read_cpi_header(fid, cpi_struct):\n",
    "    tmp = fid.read(32 * 4)\n",
    "    n = cpi_struct.unpack_from(tmp)\n",
    "    if n[0] != 0x0055AAFF or n[1] != 0xFFAA5500:\n",
    "        print('Error: Incorrect check codes: 0x{:08X} 0x{:08X}'.format(n[0], n[1]))\n",
    "        return None\n",
    "\n",
    "    cpi_header = Object()\n",
    "    cpi_header.check_code_1 = n[0]\n",
    "    cpi_header.check_code_2 = n[1]\n",
    "    cpi_header.check_counter = n[2]\n",
    "    cpi_header.data_size = n[3]\n",
    "    cpi_header.count = n[4]\n",
    "    cpi_header.num_samples = n[5]\n",
    "    cpi_header.align_num_range_short_hi = n[6]\n",
    "    cpi_header.align_num_range_short_lo = n[7]\n",
    "    cpi_header.align_num_range_long_hi = n[8]\n",
    "    cpi_header.align_num_range_long_lo = n[9]\n",
    "    cpi_header.num_range_short_hi = n[10]\n",
    "    cpi_header.num_range_short_lo = n[11]\n",
    "    cpi_header.num_range_long_hi = n[12]\n",
    "    cpi_header.num_range_long_lo = n[13]\n",
    "    \n",
    "    return cpi_header\n",
    "\n",
    "# PACK data header\n",
    "def read_pack_header(fid, pack_struct):\n",
    "    tmp = fid.read(32 * 4)\n",
    "    n = pack_struct.unpack_from(tmp)\n",
    "    if n[0] != 0x55555555 or n[1] != 0xAAAAAAAA:\n",
    "        print('Error: Incorrect check codes: 0x{:08X} 0x{:08X}'.format(n[0], n[1]))\n",
    "        return None\n",
    "\n",
    "    pack_header = Object()\n",
    "    pack_header.check_code_1 = n[0]\n",
    "    pack_header.check_code_2 = n[1]\n",
    "    pack_header.check_counter = n[2]\n",
    "    pack_header.num_cpi = n[3]\n",
    "    pack_header.pack_data_size = n[4]\n",
    "    pack_header.division_number = n[5]\n",
    "    pack_header.division_part_number = n[6]\n",
    "    pack_header.mode = n[7] & 0x2 >> 1\n",
    "\n",
    "    return pack_header"
   ]
  },
  {
   "cell_type": "code",
   "execution_count": null,
   "metadata": {},
   "outputs": [],
   "source": [
    "fid = open(file, 'rb')"
   ]
  },
  {
   "cell_type": "code",
   "execution_count": null,
   "metadata": {},
   "outputs": [],
   "source": [
    "pack_struct = struct.Struct('IIIIIHHI')\n",
    "cpi_struct = struct.Struct('IIIIHHHHHHHHHHIII')\n",
    "pri_struct = struct.Struct('IIHHHH')"
   ]
  },
  {
   "cell_type": "code",
   "execution_count": null,
   "metadata": {
    "scrolled": true
   },
   "outputs": [],
   "source": [
    "# Seems to have 24-byte master header\n",
    "fid.seek(24, 0)\n",
    "\n",
    "pack_header = read_pack_header(fid, pack_struct)\n",
    "\n",
    "print('Pack check code 1: {:X}'.format(pack_header.check_code_1))\n",
    "print('Pack check code 2: {:X}'.format(pack_header.check_code_2))\n",
    "print('Pack check counter: {}'.format(pack_header.check_counter))\n",
    "print('Number of CPI: {}'.format(pack_header.num_cpi))\n",
    "print('Pack data size: {}'.format(pack_header.pack_data_size))\n",
    "print('Division number: {} / {}'.format(\n",
    "    pack_header.division_number, pack_header.division_part_number))\n",
    "print('Observation mode: {}'.format(pack_header.mode))"
   ]
  },
  {
   "cell_type": "code",
   "execution_count": null,
   "metadata": {
    "scrolled": false
   },
   "outputs": [],
   "source": [
    "# h = np.zeros((npul, cpi_header.num_range_long_hi), dtype=complex)\n",
    "fid.seek(24, 0)\n",
    "\n",
    "for p in range(32):\n",
    "    pack_header = read_pack_header(fid, pack_struct)\n",
    "    print('Number of CPI: {}'.format(pack_header.num_cpi))\n",
    "\n",
    "    for a in range(pack_header.num_cpi):\n",
    "#         print('a = {}'.format(a))\n",
    "        cpi_header = read_cpi_header(fid, cpi_struct)\n",
    "        if cpi_header:\n",
    "            print('    cpi: {} / {} / {}'.format(cpi_header.check_counter, cpi_header.count, cpi_header.data_size))\n",
    "            for k in range(cpi_header.count):\n",
    "                pulse = read_pulse(fid, pri_struct, cpi_header)\n",
    "        else:\n",
    "            break\n",
    "        #         h[k, :] = pulse.h_long_hi"
   ]
  },
  {
   "cell_type": "code",
   "execution_count": null,
   "metadata": {},
   "outputs": [],
   "source": []
  }
 ],
 "metadata": {
  "kernelspec": {
   "display_name": "Python 3",
   "language": "python",
   "name": "python3"
  },
  "language_info": {
   "codemirror_mode": {
    "name": "ipython",
    "version": 3
   },
   "file_extension": ".py",
   "mimetype": "text/x-python",
   "name": "python",
   "nbconvert_exporter": "python",
   "pygments_lexer": "ipython3",
   "version": "3.7.7"
  }
 },
 "nbformat": 4,
 "nbformat_minor": 4
}
