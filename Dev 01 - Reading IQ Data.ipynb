{
 "cells": [
  {
   "cell_type": "markdown",
   "metadata": {},
   "source": [
    "# Reading IQ Data\n",
    "\n",
    "Only care about reading the raw I/Q samples. In the interest of time, other information are neglected since the development time could be overwhelming."
   ]
  },
  {
   "cell_type": "code",
   "execution_count": null,
   "metadata": {},
   "outputs": [],
   "source": [
    "import os\n",
    "import glob\n",
    "import struct\n",
    "\n",
    "file = os.path.expanduser('~/Downloads/20200614_150015.256007-87-02.iqData.XXXX.AKITA.dat')"
   ]
  },
  {
   "cell_type": "code",
   "execution_count": null,
   "metadata": {},
   "outputs": [],
   "source": [
    "class Object(object):\n",
    "    pass"
   ]
  },
  {
   "cell_type": "code",
   "execution_count": null,
   "metadata": {},
   "outputs": [],
   "source": [
    "fid = open(file, 'rb')"
   ]
  },
  {
   "cell_type": "code",
   "execution_count": null,
   "metadata": {},
   "outputs": [],
   "source": [
    "# PACK data header\n",
    "fid.seek(0, 0)\n",
    "tmp = fid.read(38 * 4)"
   ]
  },
  {
   "cell_type": "code",
   "execution_count": null,
   "metadata": {},
   "outputs": [],
   "source": [
    "tmp"
   ]
  },
  {
   "cell_type": "code",
   "execution_count": null,
   "metadata": {},
   "outputs": [],
   "source": [
    "n = struct.unpack('IIIIIHHI', tmp[:28])\n",
    "pack_header = Object()\n",
    "pack_header.pack_check_code_1 = n[0]\n",
    "pack_header.pack_check_code_2 = n[1]\n",
    "pack_header.pack_check_counter = n[2]\n",
    "pack_header.num_cpi = n[3]\n",
    "pack_header.pack_data_size = n[4]\n",
    "pack_header.division_number = n[5]\n",
    "pack_header.division_part_number = n[6]\n",
    "pack_header.mode = n[7] & 0x2 >> 1"
   ]
  },
  {
   "cell_type": "code",
   "execution_count": null,
   "metadata": {},
   "outputs": [],
   "source": [
    "print('CPI check code 1: {:X}'.format(pack_header.pack_check_code_1))\n",
    "print('CPI check code 2: {:X}'.format(pack_header.pack_check_code_2))\n",
    "print('CPI check counter: {}'.format(pack_header.pack_check_counter))\n",
    "print('Number of CPI: {}'.format(pack_header.num_cpi))\n",
    "print('CPI data size: {}'.format(pack_header.num_cpi))\n",
    "print('Pack data size: {}'.format(pack_header.pack_data_size))\n",
    "print('Division number: {} / {}'.format(\n",
    "    pack_header.division_number, pack_header.division_part_number))\n",
    "print('Observation mode: {}'.format(pack_header.mode))"
   ]
  },
  {
   "cell_type": "code",
   "execution_count": null,
   "metadata": {},
   "outputs": [],
   "source": [
    "tmp = fid.read(32 * 4)"
   ]
  },
  {
   "cell_type": "code",
   "execution_count": null,
   "metadata": {},
   "outputs": [],
   "source": [
    "tmp"
   ]
  },
  {
   "cell_type": "code",
   "execution_count": null,
   "metadata": {},
   "outputs": [],
   "source": [
    "n = struct.unpack('IIIIHHHHHHHHHHIII', tmp[:12*4])\n",
    "cpi_header = Object()\n",
    "cpi_header.cpi_check_code_1 = n[0]\n",
    "cpi_header.cpi_check_code_2 = n[1]\n",
    "cpi_header.check_counter = n[2]\n",
    "cpi_header.data_size = n[3]\n",
    "cpi_header.pls_code = n[4]\n",
    "cpi_header.num_samples = n[5]\n",
    "cpi_header.align_num_range_short_hi = n[6]\n",
    "cpi_header.align_num_range_short_lo = n[7]\n",
    "cpi_header.align_num_range_long_hi = n[8]\n",
    "cpi_header.align_num_range_long_lo = n[9]\n",
    "cpi_header.num_range_short_hi = n[10]\n",
    "cpi_header.num_range_short_lo = n[11]\n",
    "cpi_header.num_range_long_hi = n[12]\n",
    "cpi_header.num_range_long_lo = n[13]\n",
    "\n",
    "print('cpi_check_code_1: {:08X}'.format(cpi_header.cpi_check_code_1))\n",
    "print('cpi_check_code_2: {:08X}'.format(cpi_header.cpi_check_code_2))\n",
    "print('cpi_header.check_counter: {}'.format(cpi_header.check_counter))\n",
    "print('cpi_header.data_size: {}'.format(cpi_header.data_size))\n",
    "print('cpi_header.pls_code: {}'.format(cpi_header.pls_code))\n",
    "print('cpi_header.num_samples: {}'.format(cpi_header.num_samples))\n",
    "print('cpi_header.align_num_range_short_hi: {}'.format(cpi_header.align_num_range_short_hi))\n",
    "print('cpi_header.align_num_range_short_lo: {}'.format(cpi_header.align_num_range_short_lo))\n",
    "print('cpi_header.align_num_range_long_hi: {}'.format(cpi_header.align_num_range_long_hi))\n",
    "print('cpi_header.align_num_range_long_lo: {}'.format(cpi_header.align_num_range_long_lo))\n",
    "print('cpi_header.num_range_short_hi: {}'.format(cpi_header.num_range_short_hi))\n",
    "print('cpi_header.num_range_short_lo: {}'.format(cpi_header.num_range_short_lo))\n",
    "print('cpi_header.num_range_long_hi: {}'.format(cpi_header.num_range_long_hi))\n",
    "print('cpi_header.num_range_long_lo: {}'.format(cpi_header.num_range_long_lo))"
   ]
  },
  {
   "cell_type": "code",
   "execution_count": null,
   "metadata": {},
   "outputs": [],
   "source": []
  },
  {
   "cell_type": "code",
   "execution_count": null,
   "metadata": {},
   "outputs": [],
   "source": [
    "fid.close()"
   ]
  },
  {
   "cell_type": "code",
   "execution_count": null,
   "metadata": {},
   "outputs": [],
   "source": []
  }
 ],
 "metadata": {
  "kernelspec": {
   "display_name": "Python 3",
   "language": "python",
   "name": "python3"
  },
  "language_info": {
   "codemirror_mode": {
    "name": "ipython",
    "version": 3
   },
   "file_extension": ".py",
   "mimetype": "text/x-python",
   "name": "python",
   "nbconvert_exporter": "python",
   "pygments_lexer": "ipython3",
   "version": "3.7.7"
  }
 },
 "nbformat": 4,
 "nbformat_minor": 4
}
