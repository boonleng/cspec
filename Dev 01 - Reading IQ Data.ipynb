{
 "cells": [
  {
   "cell_type": "markdown",
   "metadata": {},
   "source": [
    "# Reading IQ Data\n",
    "\n",
    "Only care about reading the raw I/Q samples. In the interest of time, other information are neglected since the development time could be overwhelming."
   ]
  },
  {
   "cell_type": "code",
   "execution_count": null,
   "metadata": {},
   "outputs": [],
   "source": [
    "import os\n",
    "import glob\n",
    "import struct\n",
    "import numpy as np\n",
    "\n",
    "file = os.path.expanduser('~/Downloads/20200614_150015.256007-87-02.iqData.XXXX.AKITA.dat')"
   ]
  },
  {
   "cell_type": "code",
   "execution_count": null,
   "metadata": {},
   "outputs": [],
   "source": [
    "class Object(object):\n",
    "    pass"
   ]
  },
  {
   "cell_type": "code",
   "execution_count": null,
   "metadata": {},
   "outputs": [],
   "source": [
    "fid = open(file, 'rb')"
   ]
  },
  {
   "cell_type": "code",
   "execution_count": null,
   "metadata": {},
   "outputs": [],
   "source": [
    "# PACK data header\n",
    "fid.seek(24, 0)\n",
    "tmp = fid.read(32 * 4)"
   ]
  },
  {
   "cell_type": "code",
   "execution_count": null,
   "metadata": {},
   "outputs": [],
   "source": [
    "n = struct.unpack('IIIIIHHI', tmp[:28])\n",
    "pack_header = Object()\n",
    "pack_header.pack_check_code_1 = n[0]\n",
    "pack_header.pack_check_code_2 = n[1]\n",
    "pack_header.pack_check_counter = n[2]\n",
    "pack_header.num_cpi = n[3]\n",
    "pack_header.pack_data_size = n[4]\n",
    "pack_header.division_number = n[5]\n",
    "pack_header.division_part_number = n[6]\n",
    "pack_header.mode = n[7] & 0x2 >> 1"
   ]
  },
  {
   "cell_type": "code",
   "execution_count": null,
   "metadata": {},
   "outputs": [],
   "source": [
    "print('CPI check code 1: {:X}'.format(pack_header.pack_check_code_1))\n",
    "print('CPI check code 2: {:X}'.format(pack_header.pack_check_code_2))\n",
    "print('CPI check counter: {}'.format(pack_header.pack_check_counter))\n",
    "print('Number of CPI: {}'.format(pack_header.num_cpi))\n",
    "print('CPI data size: {}'.format(pack_header.num_cpi))\n",
    "print('Pack data size: {}'.format(pack_header.pack_data_size))\n",
    "print('Division number: {} / {}'.format(\n",
    "    pack_header.division_number, pack_header.division_part_number))\n",
    "print('Observation mode: {}'.format(pack_header.mode))"
   ]
  },
  {
   "cell_type": "code",
   "execution_count": null,
   "metadata": {},
   "outputs": [],
   "source": [
    "tmp = fid.read(32 * 4)"
   ]
  },
  {
   "cell_type": "code",
   "execution_count": null,
   "metadata": {},
   "outputs": [],
   "source": [
    "# CPI header\n",
    "n = struct.unpack('IIIIHHHHHHHHHHIII', tmp[:12*4])\n",
    "cpi_header = Object()\n",
    "cpi_header.check_code_1 = n[0]\n",
    "cpi_header.check_code_2 = n[1]\n",
    "cpi_header.check_counter = n[2]\n",
    "cpi_header.data_size = n[3]\n",
    "cpi_header.pls_code = n[4]\n",
    "cpi_header.num_samples = n[5]\n",
    "cpi_header.align_num_range_short_hi = n[6]\n",
    "cpi_header.align_num_range_short_lo = n[7]\n",
    "cpi_header.align_num_range_long_hi = n[8]\n",
    "cpi_header.align_num_range_long_lo = n[9]\n",
    "cpi_header.num_range_short_hi = n[10]\n",
    "cpi_header.num_range_short_lo = n[11]\n",
    "cpi_header.num_range_long_hi = n[12]\n",
    "cpi_header.num_range_long_lo = n[13]\n",
    "\n",
    "print('cpi_header.check_code_1: {:08X}'.format(cpi_header.check_code_1))\n",
    "print('cpi_header.check_code_2: {:08X}'.format(cpi_header.check_code_2))\n",
    "print('cpi_header.check_counter: {}'.format(cpi_header.check_counter))\n",
    "print('cpi_header.data_size: {}'.format(cpi_header.data_size))\n",
    "print('cpi_header.pls_code: {}'.format(cpi_header.pls_code))\n",
    "print('cpi_header.num_samples: {}'.format(cpi_header.num_samples))\n",
    "print('cpi_header.align_num_range_short_hi: {}'.format(cpi_header.align_num_range_short_hi))\n",
    "print('cpi_header.align_num_range_short_lo: {}'.format(cpi_header.align_num_range_short_lo))\n",
    "print('cpi_header.align_num_range_long_hi: {}'.format(cpi_header.align_num_range_long_hi))\n",
    "print('cpi_header.align_num_range_long_lo: {}'.format(cpi_header.align_num_range_long_lo))\n",
    "print('cpi_header.num_range_short_hi: {}'.format(cpi_header.num_range_short_hi))\n",
    "print('cpi_header.num_range_short_lo: {}'.format(cpi_header.num_range_short_lo))\n",
    "print('cpi_header.num_range_long_hi: {}'.format(cpi_header.num_range_long_hi))\n",
    "print('cpi_header.num_range_long_lo: {}'.format(cpi_header.num_range_long_lo))"
   ]
  },
  {
   "cell_type": "code",
   "execution_count": null,
   "metadata": {},
   "outputs": [],
   "source": [
    "tmp = fid.read(32 * 4)\n",
    "\n",
    "# PRI header\n",
    "n = struct.unpack('IIHHHH', tmp[:4*4])\n",
    "pri_header = Object()\n",
    "pri_header.check_code_1 = n[0]\n",
    "pri_header.check_code_2 = n[1]\n",
    "pri_header.reserved = n[2]\n",
    "pri_header.check_counter = n[3]\n",
    "pri_header.elevation = (n[4] & 0x3FFF) * 360 / 2 ** 14\n",
    "pri_header.azimuth = (n[5] & 0x3FFF) * 180 / 2 ** 13\n",
    "\n",
    "print('pri_header.check_code_1: {:08X}'.format(pri_header.check_code_1))\n",
    "print('pri_header.check_code_2: {:08X}'.format(pri_header.check_code_2))\n",
    "print('pri_header.check_counter: {}'.format(pri_header.check_counter))\n",
    "print('pri_header.elevation: {}'.format(pri_header.elevation))\n",
    "print('pri_header.azimuth: {}'.format(pri_header.azimuth))\n",
    "\n",
    "# I/Q data\n",
    "def read_data(align_num, num):\n",
    "    if align_num:\n",
    "        tmp = fid.read(align_num * 4)\n",
    "        raw = np.frombuffer(tmp, np.int16)\n",
    "        return np.array(raw[::2][:num] + 1j * raw[1::2][:num])\n",
    "    else:\n",
    "        return None\n",
    "\n",
    "long_hi = read_data(cpi_header.align_num_range_long_hi, cpi_header.num_range_long_hi)\n",
    "long_lo = read_data(cpi_header.align_num_range_long_lo, cpi_header.num_range_long_lo)\n",
    "short_hi = read_data(cpi_header.align_num_range_short_hi, cpi_header.num_range_short_hi)\n",
    "short_lo = read_data(cpi_header.align_num_range_short_lo, cpi_header.num_range_short_lo)"
   ]
  },
  {
   "cell_type": "code",
   "execution_count": null,
   "metadata": {},
   "outputs": [],
   "source": []
  },
  {
   "cell_type": "code",
   "execution_count": null,
   "metadata": {},
   "outputs": [],
   "source": [
    "len(tmp)"
   ]
  },
  {
   "cell_type": "code",
   "execution_count": null,
   "metadata": {},
   "outputs": [],
   "source": [
    "fid.close()"
   ]
  },
  {
   "cell_type": "code",
   "execution_count": null,
   "metadata": {},
   "outputs": [],
   "source": [
    "x = 1j"
   ]
  },
  {
   "cell_type": "code",
   "execution_count": null,
   "metadata": {},
   "outputs": [],
   "source": [
    "complex(1, 3)"
   ]
  },
  {
   "cell_type": "code",
   "execution_count": null,
   "metadata": {},
   "outputs": [],
   "source": []
  },
  {
   "cell_type": "code",
   "execution_count": null,
   "metadata": {},
   "outputs": [],
   "source": [
    "x"
   ]
  },
  {
   "cell_type": "code",
   "execution_count": null,
   "metadata": {},
   "outputs": [],
   "source": []
  }
 ],
 "metadata": {
  "kernelspec": {
   "display_name": "Python 3",
   "language": "python",
   "name": "python3"
  },
  "language_info": {
   "codemirror_mode": {
    "name": "ipython",
    "version": 3
   },
   "file_extension": ".py",
   "mimetype": "text/x-python",
   "name": "python",
   "nbconvert_exporter": "python",
   "pygments_lexer": "ipython3",
   "version": "3.7.7"
  }
 },
 "nbformat": 4,
 "nbformat_minor": 4
}
