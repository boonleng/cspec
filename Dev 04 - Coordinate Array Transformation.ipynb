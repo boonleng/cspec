{
 "cells": [
  {
   "cell_type": "markdown",
   "metadata": {},
   "source": [
    "# Dev 04 - Coordinate Array Transformation\n",
    "\n",
    "Transforming array of spherical coordinate (r, a, e) to arrays of Cartesian coordinate (x, y, z) to earth coordinate (lon, lat)"
   ]
  },
  {
   "cell_type": "code",
   "execution_count": null,
   "metadata": {},
   "outputs": [],
   "source": [
    "import os\n",
    "import time\n",
    "import numpy as np\n",
    "import matplotlib.pyplot as plt\n",
    "\n",
    "plt.style.use('./darkmode.style')"
   ]
  },
  {
   "cell_type": "code",
   "execution_count": null,
   "metadata": {},
   "outputs": [],
   "source": [
    "# Radar location, approximate from Google Maps: 39.7294019,140.0440751\n",
    "olat, olon = 39.7294019, 140.0440751"
   ]
  },
  {
   "cell_type": "code",
   "execution_count": null,
   "metadata": {},
   "outputs": [],
   "source": [
    "r, a = np.meshgrid(np.arange(0, 300), np.deg2rad(np.arange(0, 361)))\n",
    "\n",
    "print('r =\\n\\n{}'.format(r))\n",
    "print('\\n')\n",
    "print('a =\\n\\n{}'.format(a))"
   ]
  },
  {
   "cell_type": "code",
   "execution_count": null,
   "metadata": {},
   "outputs": [],
   "source": [
    "e = 1.5 / 180 * np.pi\n",
    "x = r * np.cos(e) * np.sin(a)\n",
    "y = r * np.cos(e) * np.cos(a)\n",
    "z = r * np.sin(e)"
   ]
  },
  {
   "cell_type": "code",
   "execution_count": null,
   "metadata": {},
   "outputs": [],
   "source": [
    "plt.close()"
   ]
  },
  {
   "cell_type": "code",
   "execution_count": null,
   "metadata": {},
   "outputs": [],
   "source": [
    "def cart2geo(x, y, z, olat, olon):\n",
    "    e = 6371e3\n",
    "    z += e\n",
    "    # Step 1 - rotate the earth about the x-axis by (90 - lat)\n",
    "    # Step 2 - rotate the earth about the z-axis by (90 + lon)\n",
    "    # rx = np.array([[1, 0, 0], [0, np.cos(ax), -np.sin(ax)], [0, np.sin(ax), np.cos(ax)]])\n",
    "    # rz = np.array([[np.cos(az), -np.sin(az), 0], [np.sin(az), np.cos(az), 0], [0, 0, 1]])\n",
    "    # q = np.array([x, y, z + e])\n",
    "    # p = np.matmul(rz, np.matmul(rx, q))\n",
    "    # x, y, z = p\n",
    "    ax = np.deg2rad(90 - olat)\n",
    "    xx = x\n",
    "    xy = np.cos(ax) * y - np.sin(ax) * z\n",
    "    xz = np.sin(ax) * y + np.cos(ax) * z\n",
    "    az = np.deg2rad(90 + olon)\n",
    "    x = np.cos(az) * xx - np.sin(az) * xy\n",
    "    y = np.sin(az) * xx + np.cos(az) * xy\n",
    "    z = xz\n",
    "    h = np.sqrt(x * x + y * y)\n",
    "    lam = np.arctan2(y, x)\n",
    "    phi = np.arctan2(z, h)\n",
    "    lat, lon = np.rad2deg(phi), np.rad2deg(lam)\n",
    "    return lat, lon"
   ]
  },
  {
   "cell_type": "code",
   "execution_count": null,
   "metadata": {},
   "outputs": [],
   "source": [
    "lat, lon = cart2geo(x, y, z, olat, olon)"
   ]
  },
  {
   "cell_type": "code",
   "execution_count": null,
   "metadata": {},
   "outputs": [],
   "source": [
    "fig, axs = plt.subplots(3, 3, figsize=(7, 7), dpi=120)\n",
    "\n",
    "axs[0, 0].pcolormesh(x, y, r)\n",
    "axs[0, 0].set_aspect('equal', 'box')\n",
    "axs[0, 0].set_title('r')\n",
    "\n",
    "axs[0, 1].pcolormesh(x, y, a)\n",
    "axs[0, 1].set_aspect('equal', 'box')\n",
    "axs[0, 1].set_title('a')\n",
    "\n",
    "axs[0, 2].pcolormesh(x, y, e * np.ones(x.shape))\n",
    "axs[0, 2].set_aspect('equal', 'box')\n",
    "axs[0, 2].set_title('e')\n",
    "\n",
    "axs[1, 0].pcolormesh(x, y, x)\n",
    "axs[1, 0].set_aspect('equal', 'box')\n",
    "axs[1, 0].set_title('x')\n",
    "\n",
    "axs[1, 1].pcolormesh(x, y, y)\n",
    "axs[1, 1].set_aspect('equal', 'box')\n",
    "axs[1, 1].set_title('y')\n",
    "\n",
    "axs[1, 2].pcolormesh(x, y, z)\n",
    "axs[1, 2].set_aspect('equal', 'box')\n",
    "axs[1, 2].set_title('z')\n",
    "\n",
    "axs[2, 0].pcolormesh(x, y, lon)\n",
    "axs[2, 0].set_aspect('equal', 'box')\n",
    "axs[2, 0].set_title('lon')\n",
    "\n",
    "axs[2, 1].pcolormesh(x, y, lat)\n",
    "axs[2, 1].set_aspect('equal', 'box')\n",
    "axs[2, 1].set_title('lat')\n",
    "\n",
    "axs[2, 2].pcolormesh(x, y, np.ones(x.shape))\n",
    "axs[2, 2].set_aspect('equal', 'box')\n",
    "axs[2, 2].set_title('-')\n",
    "\n",
    "fig.tight_layout()"
   ]
  },
  {
   "cell_type": "code",
   "execution_count": null,
   "metadata": {},
   "outputs": [],
   "source": []
  }
 ],
 "metadata": {
  "kernelspec": {
   "display_name": "Python 3",
   "language": "python",
   "name": "python3"
  },
  "language_info": {
   "codemirror_mode": {
    "name": "ipython",
    "version": 3
   },
   "file_extension": ".py",
   "mimetype": "text/x-python",
   "name": "python",
   "nbconvert_exporter": "python",
   "pygments_lexer": "ipython3",
   "version": "3.7.7"
  }
 },
 "nbformat": 4,
 "nbformat_minor": 2
}
