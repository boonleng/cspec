{
 "cells": [
  {
   "cell_type": "code",
   "execution_count": null,
   "metadata": {},
   "outputs": [],
   "source": []
  },
  {
   "cell_type": "code",
   "execution_count": null,
   "metadata": {},
   "outputs": [],
   "source": [
    "import os\n",
    "import time\n",
    "import numpy as np\n",
    "import matplotlib\n",
    "import matplotlib.pyplot as plt\n",
    "\n",
    "import toshi\n",
    "\n",
    "# file = os.path.expanduser('~/Downloads/20200614_150015.256007-87-02.iqData.XXXX.AKITA.dat')\n",
    "file = os.path.expanduser('~/Downloads/20200615_010423.194421-8C-02.iqData.XXXX.AKITA.dat')\n",
    "filesize = os.path.getsize(file)\n",
    "\n",
    "plt.style.use('./darkmode.style')"
   ]
  },
  {
   "cell_type": "code",
   "execution_count": null,
   "metadata": {},
   "outputs": [],
   "source": [
    "s = time.time()\n",
    "ray_pulses = toshi.read(file)\n",
    "e = time.time()\n",
    "print('Data read in {:.2f} s'.format(e - s))"
   ]
  },
  {
   "cell_type": "code",
   "execution_count": null,
   "metadata": {},
   "outputs": [],
   "source": [
    "naz = len(ray_pulses)\n",
    "ngate = ray_pulses[0][0].ngate_long_hi\n",
    "# ngate = ray_pulses[0][0].ngate_short_hi\n",
    "z = np.zeros((naz, ngate), dtype=np.single)\n",
    "v = np.zeros((naz, ngate), dtype=np.single)\n",
    "\n",
    "for k, pulses in enumerate(ray_pulses):\n",
    "    p = np.zeros((len(pulses), ngate), dtype=np.csingle)\n",
    "    for j, pulse in enumerate(pulses):\n",
    "        p[j, :] = pulse.h_long_hi\n",
    "        #p[j, :] = pulse.h_short_hi\n",
    "    v[k, :] = np.angle(np.sum(p[1:, :] * np.conj(p[:-1, :]), axis=0))\n",
    "#     v[k, :] = np.angle(np.sum(np.multiply(p[1:, :], np.conj(p[:-1, :])), axis=0))\n",
    "    z[k, :] = 20 * np.log10(np.sum(np.abs(p), axis=0)) - 60\n",
    "# v[z < -10] = np.nan"
   ]
  },
  {
   "cell_type": "code",
   "execution_count": null,
   "metadata": {},
   "outputs": [],
   "source": [
    "plt.figure(figsize=(9, 11), dpi=120)\n",
    "plt.subplot(2, 1, 1)\n",
    "plt.imshow(z[:, :400].T, vmin=-15, vmax=45)\n",
    "plt.colorbar()\n",
    "\n",
    "cmap = matplotlib.cm.RdYlGn\n",
    "plt.subplot(2, 1, 2)\n",
    "plt.imshow(v[:, :400].T, cmap=cmap, vmin=-np.pi, vmax=np.pi)\n",
    "plt.colorbar()"
   ]
  },
  {
   "cell_type": "code",
   "execution_count": null,
   "metadata": {},
   "outputs": [],
   "source": [
    "a = 30\n",
    "pulses = ray_pulses[a]\n",
    "ngate = pulses[0].ngate_long_hi\n",
    "p = np.zeros((len(pulses), ngate), dtype=np.csingle)\n",
    "for j, pulse in enumerate(pulses):\n",
    "    #print('AZ:{:.2f}'.format(pulse.azimuth))\n",
    "    p[j, :] = pulse.h_long_hi"
   ]
  },
  {
   "cell_type": "code",
   "execution_count": null,
   "metadata": {
    "scrolled": false
   },
   "outputs": [],
   "source": [
    "# for g in range(280, 285):\n",
    "for g in range(20, 25):\n",
    "    fig, axes = plt.subplots(nrows=2, ncols=1, dpi=120)\n",
    "    axes[0].plot(np.real(p[::2, g]))\n",
    "    axes[0].plot(np.imag(p[::2, g]))\n",
    "    axes[0].set_xlabel('Samples')\n",
    "    axes[0].set_ylabel('Int-16')\n",
    "    axes[0].set_title('Azimuth {} ({:.2f}-{:.2f} deg) Gate {}'.format(\n",
    "        a, pulses[0].azimuth, pulses[-1].azimuth, g))\n",
    "    \n",
    "    f = np.fft.fftshift(np.fft.fft(p[:, g], 512))\n",
    "    w = np.arange(-256, 256) / 512 * np.pi\n",
    "    axes[1].plot(w, 20 * np.log10(np.abs(f)), 'g')\n",
    "    axes[1].set_ylim((40, 60))\n",
    "    axes[1].set_ylabel('Uncal. Power (dB)')\n",
    "    axes[1].set_xlabel('Normalized Frequency (rad/sample)')\n",
    "    \n",
    "    fig.tight_layout(pad=0.8)"
   ]
  },
  {
   "cell_type": "code",
   "execution_count": null,
   "metadata": {},
   "outputs": [],
   "source": []
  }
 ],
 "metadata": {
  "kernelspec": {
   "display_name": "Python 3",
   "language": "python",
   "name": "python3"
  },
  "language_info": {
   "codemirror_mode": {
    "name": "ipython",
    "version": 3
   },
   "file_extension": ".py",
   "mimetype": "text/x-python",
   "name": "python",
   "nbconvert_exporter": "python",
   "pygments_lexer": "ipython3",
   "version": "3.7.7"
  }
 },
 "nbformat": 4,
 "nbformat_minor": 4
}
