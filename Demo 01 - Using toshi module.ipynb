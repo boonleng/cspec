{
 "cells": [
  {
   "cell_type": "markdown",
   "metadata": {},
   "source": [
    "# Demo 01 - Using the toshi module\n",
    "\n",
    "I/Q data reader is abstracted into a separate module named `toshi`. This notebook illustrates the usage of the module and calculation of reflectivity and radial velocity using the traditional pulse pair method.\n",
    "\n",
    "The datasets were collected with phase coding, which is embeded in each pulse header, so it must be decoded prior to subsequent analysis."
   ]
  },
  {
   "cell_type": "code",
   "execution_count": null,
   "metadata": {},
   "outputs": [],
   "source": [
    "import os\n",
    "import time\n",
    "import numpy as np\n",
    "import scipy.signal\n",
    "import matplotlib\n",
    "import matplotlib.pyplot as plt\n",
    "\n",
    "import toshi\n",
    "\n",
    "file = os.path.expanduser('~/Downloads/20200614_150015.256007-87-02.iqData.XXXX.AKITA.dat')\n",
    "# file = os.path.expanduser('~/Downloads/20200615_010423.194421-8C-02.iqData.XXXX.AKITA.dat')\n",
    "filesize = os.path.getsize(file)\n",
    "\n",
    "plt.style.use('./darkmode.style')"
   ]
  },
  {
   "cell_type": "code",
   "execution_count": null,
   "metadata": {},
   "outputs": [],
   "source": [
    "s = time.time()\n",
    "ray_pulses, cpi_headers = toshi.read(file)\n",
    "e = time.time()\n",
    "print('Data read in {:.2f} s'.format(e - s))"
   ]
  },
  {
   "cell_type": "code",
   "execution_count": null,
   "metadata": {},
   "outputs": [],
   "source": [
    "pulses = ray_pulses[0]"
   ]
  },
  {
   "cell_type": "code",
   "execution_count": null,
   "metadata": {},
   "outputs": [],
   "source": [
    "ph = np.zeros(len(pulses), dtype=np.single)\n",
    "for k, pulse in enumerate(pulses):\n",
    "    ph[k] = pulse.phase_h_long"
   ]
  },
  {
   "cell_type": "code",
   "execution_count": null,
   "metadata": {},
   "outputs": [],
   "source": [
    "fig, ax = plt.subplots(figsize=(8, 3), dpi=120)\n",
    "plt.stem(-ph / np.pi, use_line_collection=True)\n",
    "ax.set_ylim(-0.1, 1.1)\n",
    "ax.set_xlabel('Samples')\n",
    "ax.set_ylabel(r'Phase ($\\times \\pi$)')\n",
    "ax.set_title('Transmit Phase')\n",
    "plt.show()"
   ]
  },
  {
   "cell_type": "code",
   "execution_count": null,
   "metadata": {},
   "outputs": [],
   "source": []
  },
  {
   "cell_type": "code",
   "execution_count": null,
   "metadata": {},
   "outputs": [],
   "source": [
    "naz = len(ray_pulses)\n",
    "ngate = ray_pulses[0][0].ngate_long_hi\n",
    "# ngate = ray_pulses[0][0].ngate_short_hi\n",
    "z = np.zeros((naz, ngate), dtype=np.single)\n",
    "v = np.zeros((naz, ngate), dtype=np.single)\n",
    "\n",
    "for k, (pulses, cpi_header) in enumerate(zip(ray_pulses, cpi_headers)):\n",
    "    p = np.zeros((len(pulses), ngate), dtype=np.csingle)\n",
    "    for j, pulse in enumerate(pulses):\n",
    "        p[j, :] = pulse.h_long_hi * np.exp(-1j * pulse.phase_h_long)\n",
    "    pp = p[1:, :] * np.conj(p[:-1, :])\n",
    "    v[k, :] = np.angle(np.sum(pp, axis=0))\n",
    "    z[k, :] = np.sum(np.abs(p), axis=0)\n",
    "\n",
    "# Sweep operations\n",
    "z = 20 * np.log10(z) - 60\n",
    "# v[z < -10] = np.nan"
   ]
  },
  {
   "cell_type": "code",
   "execution_count": null,
   "metadata": {},
   "outputs": [],
   "source": [
    "plt.figure(figsize=(9, 16), dpi=120)\n",
    "plt.subplot(3, 1, 1)\n",
    "# plt.imshow(z[:, :400].T, vmin=-15, vmax=45, interpolation='none')\n",
    "plt.imshow(z[::2, :200].T, vmin=-15, vmax=45, interpolation='none')\n",
    "plt.colorbar()\n",
    "plt.title(os.path.basename(file))\n",
    "\n",
    "cmap = matplotlib.cm.RdYlGn\n",
    "vmin, vmax = -3, 3\n",
    "# va1 = 0.05 * 1500 / 4\n",
    "# va2 = 0.05 * 1800 / 4\n",
    "va1 = 0.05 * 1800 / 4\n",
    "va2 = 0.05 * 1500 / 4\n",
    "\n",
    "v1 = va1 * v[::2, :]\n",
    "v2 = va2 * v[1::2, :]\n",
    "# vr = np.zeros((naz, ngate), dtype=np.single)\n",
    "# vr[::2, :] = v1\n",
    "# vr[::2, :] = v2\n",
    "\n",
    "plt.subplot(3, 1, 2)\n",
    "# plt.imshow(v1[:, :400].T, cmap=cmap, vmin=-np.pi, vmax=np.pi, interpolation='none')\n",
    "# plt.imshow(v1[::2, :200].T, cmap=cmap, vmin=-np.pi, vmax=np.pi, interpolation='none')\n",
    "plt.imshow(v1[:, :200].T, cmap=cmap, vmin=vmin, vmax=vmax, interpolation='none')\n",
    "plt.colorbar()\n",
    "\n",
    "plt.subplot(3, 1, 3)\n",
    "# plt.imshow(v2[:, :400].T, cmap=cmap, vmin=-np.pi, vmax=np.pi, interpolation='none')\n",
    "plt.imshow(v1[:, :200].T, cmap=cmap, vmin=vmin, vmax=vmax, interpolation='none')\n",
    "plt.colorbar()\n",
    "\n",
    "plt.show()"
   ]
  },
  {
   "cell_type": "code",
   "execution_count": null,
   "metadata": {},
   "outputs": [],
   "source": [
    "a = 30\n",
    "pulses = ray_pulses[a]\n",
    "ngate = pulses[0].ngate_long_hi\n",
    "p = np.zeros((len(pulses), ngate), dtype=np.csingle)\n",
    "for j, pulse in enumerate(pulses):\n",
    "    #print('AZ:{:.2f}'.format(pulse.azimuth))\n",
    "    p[j, :] = pulse.h_long_hi * np.exp(-1j * pulse.phase_h_long)\n",
    "# w = scipy.signal.get_window('hamming', len(p)).reshape((p.shape[0], 1))\n",
    "# p = p * w"
   ]
  },
  {
   "cell_type": "code",
   "execution_count": null,
   "metadata": {
    "scrolled": false
   },
   "outputs": [],
   "source": [
    "# for a in range(20, 30):\n",
    "#     pulses = ray_pulses[a]\n",
    "#     s = np.zeros(len(pulses), dtype=np.csingle)\n",
    "#     for k, pulse in enumerate(pulses):\n",
    "#         s[k] = pulse.h_pilot_hi\n",
    "\n",
    "#     fig = plt.figure(dpi=120)\n",
    "#     plt.plot(np.real(s))\n",
    "#     plt.plot(np.imag(s))    \n",
    "# #     plt.plot(np.real(s[::2]))\n",
    "# #     plt.plot(np.imag(s[::2]))"
   ]
  },
  {
   "cell_type": "code",
   "execution_count": null,
   "metadata": {},
   "outputs": [],
   "source": [
    "plt.close()"
   ]
  },
  {
   "cell_type": "code",
   "execution_count": null,
   "metadata": {},
   "outputs": [],
   "source": [
    "# g = 20\n",
    "# w = scipy.signal.get_window('hamming', len(p)).reshape((p.shape[0], 1))\n",
    "# np.fft.fft(p[:, g] * w, 512)"
   ]
  },
  {
   "cell_type": "code",
   "execution_count": null,
   "metadata": {
    "scrolled": false
   },
   "outputs": [],
   "source": [
    "# Windowed pulses\n",
    "w = scipy.signal.get_window('hamming', len(p)).reshape((p.shape[0], 1))\n",
    "wp = p * w\n",
    "\n",
    "# for g in range(280, 285):\n",
    "for g in range(20, 25):\n",
    "    fig, axes = plt.subplots(nrows=2, ncols=1, dpi=120)\n",
    "    axes[0].plot(np.real(p[:, g]))\n",
    "    axes[0].plot(np.imag(p[:, g]))\n",
    "    # axes[0].plot(np.real(p[::2, g]))\n",
    "    # axes[0].plot(np.imag(p[::2, g]))\n",
    "    axes[0].set_xlabel('Samples')\n",
    "    axes[0].set_ylabel('Int-16')\n",
    "    axes[0].set_title('Azimuth {} ({:.2f}-{:.2f} deg) Gate {}'.format(\n",
    "        a, pulses[0].azimuth, pulses[-1].azimuth, g))\n",
    "    \n",
    "    s = np.fft.fftshift(np.fft.fft(wp[:, g], 512)) / len(p[:, g])\n",
    "    f = np.arange(-256, 256) / 512 * np.pi\n",
    "    axes[1].plot(f, 20 * np.log10(np.abs(s)), 'g')\n",
    "    #axes[1].set_ylim((0, 10))\n",
    "    axes[1].set_ylabel('Uncal. Power (dB)')\n",
    "    axes[1].set_xlabel('Normalized Frequency (rad/sample)')\n",
    "    \n",
    "    fig.tight_layout(pad=0.8)"
   ]
  },
  {
   "cell_type": "code",
   "execution_count": null,
   "metadata": {},
   "outputs": [],
   "source": [
    "0.05 * 1500 / 4"
   ]
  },
  {
   "cell_type": "code",
   "execution_count": null,
   "metadata": {},
   "outputs": [],
   "source": []
  }
 ],
 "metadata": {
  "kernelspec": {
   "display_name": "Python 3",
   "language": "python",
   "name": "python3"
  },
  "language_info": {
   "codemirror_mode": {
    "name": "ipython",
    "version": 3
   },
   "file_extension": ".py",
   "mimetype": "text/x-python",
   "name": "python",
   "nbconvert_exporter": "python",
   "pygments_lexer": "ipython3",
   "version": "3.7.7"
  }
 },
 "nbformat": 4,
 "nbformat_minor": 4
}
